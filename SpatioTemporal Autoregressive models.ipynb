{
 "cells": [
  {
   "cell_type": "code",
   "execution_count": 1,
   "metadata": {
    "id": "KO4dO2DGcoM8"
   },
   "outputs": [],
   "source": [
    "import pandas as pd\n",
    "import numpy as np \n",
    "import matplotlib.pyplot as plt\n",
    "import sklearn"
   ]
  },
  {
   "cell_type": "code",
   "execution_count": 2,
   "metadata": {
    "id": "H9NzSS3UcoM_"
   },
   "outputs": [],
   "source": [
    "import matplotlib as mpl\n",
    "import matplotlib.pyplot as plt\n",
    "from mpl_toolkits.mplot3d import Axes3D\n",
    "from matplotlib.collections import PolyCollection"
   ]
  },
  {
   "cell_type": "code",
   "execution_count": 3,
   "metadata": {},
   "outputs": [],
   "source": [
    "from sklearn.ensemble import RandomForestRegressor, GradientBoostingRegressor\n",
    "from sklearn.model_selection import train_test_split, TimeSeriesSplit, RandomizedSearchCV\n",
    "from sklearn.preprocessing import StandardScaler\n",
    "from sklearn.linear_model import LinearRegression\n",
    "from sklearn.metrics import mean_squared_error, mean_absolute_error"
   ]
  },
  {
   "cell_type": "code",
   "execution_count": 4,
   "metadata": {},
   "outputs": [],
   "source": [
    "from scipy.stats import norm\n",
    "import seaborn as sns\n",
    "import geopandas as gpd"
   ]
  },
  {
   "cell_type": "code",
   "execution_count": 5,
   "metadata": {},
   "outputs": [],
   "source": [
    "import warnings\n",
    "warnings.filterwarnings('ignore')"
   ]
  },
  {
   "cell_type": "code",
   "execution_count": 6,
   "metadata": {},
   "outputs": [],
   "source": [
    "%matplotlib inline"
   ]
  },
  {
   "cell_type": "markdown",
   "metadata": {
    "id": "pIirtJ6Ojnrk"
   },
   "source": [
    "## 1- Loading Data"
   ]
  },
  {
   "cell_type": "code",
   "execution_count": 7,
   "metadata": {
    "colab": {
     "base_uri": "https://localhost:8080/",
     "height": 263
    },
    "id": "myrnrjrng8BX",
    "outputId": "0cfd4bfc-c8eb-4654-ec3b-036e0bdfc07e"
   },
   "outputs": [],
   "source": [
    "#Reading the dataframe\n",
    "\n",
    "input_directory = './input/'\n",
    "\n",
    "covid_df = pd.read_csv(input_directory + 'combined_df.csv', index_col=0, dtype={'GEOID':str})"
   ]
  },
  {
   "cell_type": "code",
   "execution_count": 8,
   "metadata": {
    "colab": {
     "base_uri": "https://localhost:8080/"
    },
    "id": "p9cI0pukFytF",
    "outputId": "4a493f97-26c9-4177-da8d-e90aa5ba2ede"
   },
   "outputs": [
    {
     "data": {
      "text/plain": [
       "(108605, 147)"
      ]
     },
     "execution_count": 8,
     "metadata": {},
     "output_type": "execute_result"
    }
   ],
   "source": [
    "covid_df.shape"
   ]
  },
  {
   "cell_type": "code",
   "execution_count": 9,
   "metadata": {
    "colab": {
     "base_uri": "https://localhost:8080/"
    },
    "id": "jQ22baxHhWFJ",
    "outputId": "be3149c5-a9b0-46d8-fea1-3c3a1cd56f3d"
   },
   "outputs": [
    {
     "data": {
      "text/plain": [
       "0"
      ]
     },
     "execution_count": 9,
     "metadata": {},
     "output_type": "execute_result"
    }
   ],
   "source": [
    "covid_df.isnull().sum().sum()"
   ]
  },
  {
   "cell_type": "code",
   "execution_count": 10,
   "metadata": {},
   "outputs": [],
   "source": [
    "covid_df.sort_values(inplace=True, by=[\"date_start_period\", \"GEOID\"])"
   ]
  },
  {
   "cell_type": "code",
   "execution_count": 11,
   "metadata": {},
   "outputs": [
    {
     "data": {
      "text/html": [
       "<div>\n",
       "<style scoped>\n",
       "    .dataframe tbody tr th:only-of-type {\n",
       "        vertical-align: middle;\n",
       "    }\n",
       "\n",
       "    .dataframe tbody tr th {\n",
       "        vertical-align: top;\n",
       "    }\n",
       "\n",
       "    .dataframe thead th {\n",
       "        text-align: right;\n",
       "    }\n",
       "</style>\n",
       "<table border=\"1\" class=\"dataframe\">\n",
       "  <thead>\n",
       "    <tr style=\"text-align: right;\">\n",
       "      <th></th>\n",
       "      <th>GEOID</th>\n",
       "      <th>NAME</th>\n",
       "      <th>State_Name</th>\n",
       "      <th>STATEFP</th>\n",
       "      <th>COUNTYFP</th>\n",
       "      <th>date_end_period</th>\n",
       "      <th>date_start_period</th>\n",
       "      <th>date_end_lag</th>\n",
       "      <th>date_start_lag</th>\n",
       "      <th>LOG_DELTA_INC_RATE_T</th>\n",
       "      <th>...</th>\n",
       "      <th>pct_part_time_work_behavior_devices_baselined_T_4</th>\n",
       "      <th>pct_delivery_behavior_devices_baselined_T_4</th>\n",
       "      <th>distance_traveled_from_home_baselined_T_4</th>\n",
       "      <th>median_home_dwell_time_baselined_T_4</th>\n",
       "      <th>pct_completely_home_device_count_slope_T_4</th>\n",
       "      <th>pct_full_time_work_behavior_devices_slope_T_4</th>\n",
       "      <th>pct_part_time_work_behavior_devices_slope_T_4</th>\n",
       "      <th>pct_delivery_behavior_devices_slope_T_4</th>\n",
       "      <th>distance_traveled_from_home_slope_T_4</th>\n",
       "      <th>median_home_dwell_time_slope_T_4</th>\n",
       "    </tr>\n",
       "  </thead>\n",
       "  <tbody>\n",
       "    <tr>\n",
       "      <th>0</th>\n",
       "      <td>01001</td>\n",
       "      <td>Autauga</td>\n",
       "      <td>Alabama</td>\n",
       "      <td>1</td>\n",
       "      <td>1</td>\n",
       "      <td>2020-04-04</td>\n",
       "      <td>2020-03-29</td>\n",
       "      <td>2020-03-28</td>\n",
       "      <td>2020-03-01</td>\n",
       "      <td>0.684831</td>\n",
       "      <td>...</td>\n",
       "      <td>-1.376835</td>\n",
       "      <td>0.080430</td>\n",
       "      <td>1.562443</td>\n",
       "      <td>-9.222329</td>\n",
       "      <td>-0.635825</td>\n",
       "      <td>0.676892</td>\n",
       "      <td>0.112197</td>\n",
       "      <td>-0.161042</td>\n",
       "      <td>-0.521814</td>\n",
       "      <td>0.835106</td>\n",
       "    </tr>\n",
       "    <tr>\n",
       "      <th>1</th>\n",
       "      <td>01003</td>\n",
       "      <td>Baldwin</td>\n",
       "      <td>Alabama</td>\n",
       "      <td>1</td>\n",
       "      <td>3</td>\n",
       "      <td>2020-04-04</td>\n",
       "      <td>2020-03-29</td>\n",
       "      <td>2020-03-28</td>\n",
       "      <td>2020-03-01</td>\n",
       "      <td>0.608396</td>\n",
       "      <td>...</td>\n",
       "      <td>-1.707145</td>\n",
       "      <td>0.017373</td>\n",
       "      <td>20.395673</td>\n",
       "      <td>-11.526151</td>\n",
       "      <td>-0.564465</td>\n",
       "      <td>0.835259</td>\n",
       "      <td>0.658430</td>\n",
       "      <td>0.324330</td>\n",
       "      <td>0.938332</td>\n",
       "      <td>0.376323</td>\n",
       "    </tr>\n",
       "    <tr>\n",
       "      <th>2</th>\n",
       "      <td>01005</td>\n",
       "      <td>Barbour</td>\n",
       "      <td>Alabama</td>\n",
       "      <td>1</td>\n",
       "      <td>5</td>\n",
       "      <td>2020-04-04</td>\n",
       "      <td>2020-03-29</td>\n",
       "      <td>2020-03-28</td>\n",
       "      <td>2020-03-01</td>\n",
       "      <td>0.244551</td>\n",
       "      <td>...</td>\n",
       "      <td>-0.388489</td>\n",
       "      <td>0.192245</td>\n",
       "      <td>-1.102112</td>\n",
       "      <td>-14.349953</td>\n",
       "      <td>-0.222759</td>\n",
       "      <td>0.814887</td>\n",
       "      <td>0.637670</td>\n",
       "      <td>-0.520546</td>\n",
       "      <td>-0.987679</td>\n",
       "      <td>0.917133</td>\n",
       "    </tr>\n",
       "    <tr>\n",
       "      <th>3</th>\n",
       "      <td>01007</td>\n",
       "      <td>Bibb</td>\n",
       "      <td>Alabama</td>\n",
       "      <td>1</td>\n",
       "      <td>7</td>\n",
       "      <td>2020-04-04</td>\n",
       "      <td>2020-03-29</td>\n",
       "      <td>2020-03-28</td>\n",
       "      <td>2020-03-01</td>\n",
       "      <td>0.731440</td>\n",
       "      <td>...</td>\n",
       "      <td>-1.011892</td>\n",
       "      <td>-0.186752</td>\n",
       "      <td>-0.066670</td>\n",
       "      <td>-8.351150</td>\n",
       "      <td>-0.777165</td>\n",
       "      <td>0.909502</td>\n",
       "      <td>0.149624</td>\n",
       "      <td>-0.872921</td>\n",
       "      <td>-0.980646</td>\n",
       "      <td>0.951871</td>\n",
       "    </tr>\n",
       "    <tr>\n",
       "      <th>4</th>\n",
       "      <td>01009</td>\n",
       "      <td>Blount</td>\n",
       "      <td>Alabama</td>\n",
       "      <td>1</td>\n",
       "      <td>9</td>\n",
       "      <td>2020-04-04</td>\n",
       "      <td>2020-03-29</td>\n",
       "      <td>2020-03-28</td>\n",
       "      <td>2020-03-01</td>\n",
       "      <td>0.611175</td>\n",
       "      <td>...</td>\n",
       "      <td>-0.882520</td>\n",
       "      <td>0.035340</td>\n",
       "      <td>-2.825633</td>\n",
       "      <td>-8.582479</td>\n",
       "      <td>-0.679013</td>\n",
       "      <td>0.853549</td>\n",
       "      <td>0.513093</td>\n",
       "      <td>0.604771</td>\n",
       "      <td>-0.977453</td>\n",
       "      <td>0.983202</td>\n",
       "    </tr>\n",
       "    <tr>\n",
       "      <th>...</th>\n",
       "      <td>...</td>\n",
       "      <td>...</td>\n",
       "      <td>...</td>\n",
       "      <td>...</td>\n",
       "      <td>...</td>\n",
       "      <td>...</td>\n",
       "      <td>...</td>\n",
       "      <td>...</td>\n",
       "      <td>...</td>\n",
       "      <td>...</td>\n",
       "      <td>...</td>\n",
       "      <td>...</td>\n",
       "      <td>...</td>\n",
       "      <td>...</td>\n",
       "      <td>...</td>\n",
       "      <td>...</td>\n",
       "      <td>...</td>\n",
       "      <td>...</td>\n",
       "      <td>...</td>\n",
       "      <td>...</td>\n",
       "      <td>...</td>\n",
       "    </tr>\n",
       "    <tr>\n",
       "      <th>3098</th>\n",
       "      <td>56037</td>\n",
       "      <td>Sweetwater</td>\n",
       "      <td>Wyoming</td>\n",
       "      <td>56</td>\n",
       "      <td>37</td>\n",
       "      <td>2020-11-28</td>\n",
       "      <td>2020-11-22</td>\n",
       "      <td>2020-11-21</td>\n",
       "      <td>2020-10-25</td>\n",
       "      <td>4.355917</td>\n",
       "      <td>...</td>\n",
       "      <td>0.882567</td>\n",
       "      <td>0.586524</td>\n",
       "      <td>-86.700005</td>\n",
       "      <td>-9.798330</td>\n",
       "      <td>0.589019</td>\n",
       "      <td>0.705570</td>\n",
       "      <td>0.904548</td>\n",
       "      <td>0.916877</td>\n",
       "      <td>-0.955524</td>\n",
       "      <td>0.923685</td>\n",
       "    </tr>\n",
       "    <tr>\n",
       "      <th>3099</th>\n",
       "      <td>56039</td>\n",
       "      <td>Teton</td>\n",
       "      <td>Wyoming</td>\n",
       "      <td>56</td>\n",
       "      <td>39</td>\n",
       "      <td>2020-11-28</td>\n",
       "      <td>2020-11-22</td>\n",
       "      <td>2020-11-21</td>\n",
       "      <td>2020-10-25</td>\n",
       "      <td>4.350430</td>\n",
       "      <td>...</td>\n",
       "      <td>-0.028960</td>\n",
       "      <td>0.213866</td>\n",
       "      <td>-80.792861</td>\n",
       "      <td>-33.073090</td>\n",
       "      <td>-0.949388</td>\n",
       "      <td>-0.613238</td>\n",
       "      <td>0.816894</td>\n",
       "      <td>0.948074</td>\n",
       "      <td>-0.711677</td>\n",
       "      <td>0.460796</td>\n",
       "    </tr>\n",
       "    <tr>\n",
       "      <th>3100</th>\n",
       "      <td>56041</td>\n",
       "      <td>Uinta</td>\n",
       "      <td>Wyoming</td>\n",
       "      <td>56</td>\n",
       "      <td>41</td>\n",
       "      <td>2020-11-28</td>\n",
       "      <td>2020-11-22</td>\n",
       "      <td>2020-11-21</td>\n",
       "      <td>2020-10-25</td>\n",
       "      <td>4.236125</td>\n",
       "      <td>...</td>\n",
       "      <td>0.690423</td>\n",
       "      <td>0.035188</td>\n",
       "      <td>-78.264633</td>\n",
       "      <td>-8.203949</td>\n",
       "      <td>-0.897264</td>\n",
       "      <td>-0.707707</td>\n",
       "      <td>-0.253174</td>\n",
       "      <td>-0.446884</td>\n",
       "      <td>-0.308843</td>\n",
       "      <td>-0.109549</td>\n",
       "    </tr>\n",
       "    <tr>\n",
       "      <th>3101</th>\n",
       "      <td>56043</td>\n",
       "      <td>Washakie</td>\n",
       "      <td>Wyoming</td>\n",
       "      <td>56</td>\n",
       "      <td>43</td>\n",
       "      <td>2020-11-28</td>\n",
       "      <td>2020-11-22</td>\n",
       "      <td>2020-11-21</td>\n",
       "      <td>2020-10-25</td>\n",
       "      <td>4.793120</td>\n",
       "      <td>...</td>\n",
       "      <td>1.190478</td>\n",
       "      <td>0.638539</td>\n",
       "      <td>-67.778014</td>\n",
       "      <td>-15.109619</td>\n",
       "      <td>-0.969209</td>\n",
       "      <td>0.505750</td>\n",
       "      <td>0.688021</td>\n",
       "      <td>0.743920</td>\n",
       "      <td>-0.732299</td>\n",
       "      <td>-0.964630</td>\n",
       "    </tr>\n",
       "    <tr>\n",
       "      <th>3102</th>\n",
       "      <td>56045</td>\n",
       "      <td>Weston</td>\n",
       "      <td>Wyoming</td>\n",
       "      <td>56</td>\n",
       "      <td>45</td>\n",
       "      <td>2020-11-28</td>\n",
       "      <td>2020-11-22</td>\n",
       "      <td>2020-11-21</td>\n",
       "      <td>2020-10-25</td>\n",
       "      <td>3.704699</td>\n",
       "      <td>...</td>\n",
       "      <td>1.663321</td>\n",
       "      <td>-0.270603</td>\n",
       "      <td>-81.114070</td>\n",
       "      <td>-13.713183</td>\n",
       "      <td>-0.922906</td>\n",
       "      <td>-0.578426</td>\n",
       "      <td>-0.701359</td>\n",
       "      <td>0.937009</td>\n",
       "      <td>-0.817853</td>\n",
       "      <td>-0.876226</td>\n",
       "    </tr>\n",
       "  </tbody>\n",
       "</table>\n",
       "<p>108605 rows × 147 columns</p>\n",
       "</div>"
      ],
      "text/plain": [
       "      GEOID        NAME State_Name  STATEFP  COUNTYFP date_end_period  \\\n",
       "0     01001     Autauga    Alabama        1         1      2020-04-04   \n",
       "1     01003     Baldwin    Alabama        1         3      2020-04-04   \n",
       "2     01005     Barbour    Alabama        1         5      2020-04-04   \n",
       "3     01007        Bibb    Alabama        1         7      2020-04-04   \n",
       "4     01009      Blount    Alabama        1         9      2020-04-04   \n",
       "...     ...         ...        ...      ...       ...             ...   \n",
       "3098  56037  Sweetwater    Wyoming       56        37      2020-11-28   \n",
       "3099  56039       Teton    Wyoming       56        39      2020-11-28   \n",
       "3100  56041       Uinta    Wyoming       56        41      2020-11-28   \n",
       "3101  56043    Washakie    Wyoming       56        43      2020-11-28   \n",
       "3102  56045      Weston    Wyoming       56        45      2020-11-28   \n",
       "\n",
       "     date_start_period date_end_lag date_start_lag  LOG_DELTA_INC_RATE_T  ...  \\\n",
       "0           2020-03-29   2020-03-28     2020-03-01              0.684831  ...   \n",
       "1           2020-03-29   2020-03-28     2020-03-01              0.608396  ...   \n",
       "2           2020-03-29   2020-03-28     2020-03-01              0.244551  ...   \n",
       "3           2020-03-29   2020-03-28     2020-03-01              0.731440  ...   \n",
       "4           2020-03-29   2020-03-28     2020-03-01              0.611175  ...   \n",
       "...                ...          ...            ...                   ...  ...   \n",
       "3098        2020-11-22   2020-11-21     2020-10-25              4.355917  ...   \n",
       "3099        2020-11-22   2020-11-21     2020-10-25              4.350430  ...   \n",
       "3100        2020-11-22   2020-11-21     2020-10-25              4.236125  ...   \n",
       "3101        2020-11-22   2020-11-21     2020-10-25              4.793120  ...   \n",
       "3102        2020-11-22   2020-11-21     2020-10-25              3.704699  ...   \n",
       "\n",
       "      pct_part_time_work_behavior_devices_baselined_T_4  \\\n",
       "0                                             -1.376835   \n",
       "1                                             -1.707145   \n",
       "2                                             -0.388489   \n",
       "3                                             -1.011892   \n",
       "4                                             -0.882520   \n",
       "...                                                 ...   \n",
       "3098                                           0.882567   \n",
       "3099                                          -0.028960   \n",
       "3100                                           0.690423   \n",
       "3101                                           1.190478   \n",
       "3102                                           1.663321   \n",
       "\n",
       "      pct_delivery_behavior_devices_baselined_T_4  \\\n",
       "0                                        0.080430   \n",
       "1                                        0.017373   \n",
       "2                                        0.192245   \n",
       "3                                       -0.186752   \n",
       "4                                        0.035340   \n",
       "...                                           ...   \n",
       "3098                                     0.586524   \n",
       "3099                                     0.213866   \n",
       "3100                                     0.035188   \n",
       "3101                                     0.638539   \n",
       "3102                                    -0.270603   \n",
       "\n",
       "      distance_traveled_from_home_baselined_T_4  \\\n",
       "0                                      1.562443   \n",
       "1                                     20.395673   \n",
       "2                                     -1.102112   \n",
       "3                                     -0.066670   \n",
       "4                                     -2.825633   \n",
       "...                                         ...   \n",
       "3098                                 -86.700005   \n",
       "3099                                 -80.792861   \n",
       "3100                                 -78.264633   \n",
       "3101                                 -67.778014   \n",
       "3102                                 -81.114070   \n",
       "\n",
       "      median_home_dwell_time_baselined_T_4  \\\n",
       "0                                -9.222329   \n",
       "1                               -11.526151   \n",
       "2                               -14.349953   \n",
       "3                                -8.351150   \n",
       "4                                -8.582479   \n",
       "...                                    ...   \n",
       "3098                             -9.798330   \n",
       "3099                            -33.073090   \n",
       "3100                             -8.203949   \n",
       "3101                            -15.109619   \n",
       "3102                            -13.713183   \n",
       "\n",
       "      pct_completely_home_device_count_slope_T_4  \\\n",
       "0                                      -0.635825   \n",
       "1                                      -0.564465   \n",
       "2                                      -0.222759   \n",
       "3                                      -0.777165   \n",
       "4                                      -0.679013   \n",
       "...                                          ...   \n",
       "3098                                    0.589019   \n",
       "3099                                   -0.949388   \n",
       "3100                                   -0.897264   \n",
       "3101                                   -0.969209   \n",
       "3102                                   -0.922906   \n",
       "\n",
       "      pct_full_time_work_behavior_devices_slope_T_4  \\\n",
       "0                                          0.676892   \n",
       "1                                          0.835259   \n",
       "2                                          0.814887   \n",
       "3                                          0.909502   \n",
       "4                                          0.853549   \n",
       "...                                             ...   \n",
       "3098                                       0.705570   \n",
       "3099                                      -0.613238   \n",
       "3100                                      -0.707707   \n",
       "3101                                       0.505750   \n",
       "3102                                      -0.578426   \n",
       "\n",
       "      pct_part_time_work_behavior_devices_slope_T_4  \\\n",
       "0                                          0.112197   \n",
       "1                                          0.658430   \n",
       "2                                          0.637670   \n",
       "3                                          0.149624   \n",
       "4                                          0.513093   \n",
       "...                                             ...   \n",
       "3098                                       0.904548   \n",
       "3099                                       0.816894   \n",
       "3100                                      -0.253174   \n",
       "3101                                       0.688021   \n",
       "3102                                      -0.701359   \n",
       "\n",
       "      pct_delivery_behavior_devices_slope_T_4  \\\n",
       "0                                   -0.161042   \n",
       "1                                    0.324330   \n",
       "2                                   -0.520546   \n",
       "3                                   -0.872921   \n",
       "4                                    0.604771   \n",
       "...                                       ...   \n",
       "3098                                 0.916877   \n",
       "3099                                 0.948074   \n",
       "3100                                -0.446884   \n",
       "3101                                 0.743920   \n",
       "3102                                 0.937009   \n",
       "\n",
       "      distance_traveled_from_home_slope_T_4  median_home_dwell_time_slope_T_4  \n",
       "0                                 -0.521814                          0.835106  \n",
       "1                                  0.938332                          0.376323  \n",
       "2                                 -0.987679                          0.917133  \n",
       "3                                 -0.980646                          0.951871  \n",
       "4                                 -0.977453                          0.983202  \n",
       "...                                     ...                               ...  \n",
       "3098                              -0.955524                          0.923685  \n",
       "3099                              -0.711677                          0.460796  \n",
       "3100                              -0.308843                         -0.109549  \n",
       "3101                              -0.732299                         -0.964630  \n",
       "3102                              -0.817853                         -0.876226  \n",
       "\n",
       "[108605 rows x 147 columns]"
      ]
     },
     "execution_count": 11,
     "metadata": {},
     "output_type": "execute_result"
    }
   ],
   "source": [
    "covid_df"
   ]
  },
  {
   "cell_type": "markdown",
   "metadata": {},
   "source": [
    "### 1.1. The list of features in the base model (base features)"
   ]
  },
  {
   "cell_type": "code",
   "execution_count": 12,
   "metadata": {
    "colab": {
     "base_uri": "https://localhost:8080/"
    },
    "id": "q3REEMacIUqX",
    "outputId": "79faf58e-1a02-433d-c813-db07799203cf"
   },
   "outputs": [],
   "source": [
    "temp_cols = [col for col in covid_df.columns if 'TEMP' in col]"
   ]
  },
  {
   "cell_type": "code",
   "execution_count": 13,
   "metadata": {},
   "outputs": [],
   "source": [
    "socio_cols = ['POP_DENSITY',\n",
    "'PCT_MALE',\n",
    "'PCT_BLACK',\n",
    "'PCT_HISPAN', \n",
    "'PCT_AMIND',\n",
    "'PCT_RURAL',\n",
    "'PCT_COL_DE' ,\n",
    "'PCT_TRUMP_',\n",
    "'MED_HOS_IN']"
   ]
  },
  {
   "cell_type": "code",
   "execution_count": 14,
   "metadata": {},
   "outputs": [
    {
     "data": {
      "text/plain": [
       "'LOG_DELTA_INC_RATE_T'"
      ]
     },
     "execution_count": 14,
     "metadata": {},
     "output_type": "execute_result"
    }
   ],
   "source": [
    "inc_cols = [col for col in covid_df.columns if 'DELTA_INC' in col]\n",
    "inc_cols.pop(0)"
   ]
  },
  {
   "cell_type": "code",
   "execution_count": 15,
   "metadata": {},
   "outputs": [],
   "source": [
    "base_features = socio_cols + temp_cols + inc_cols + ['LOG_MEAN_INC_RATE_T_4']"
   ]
  },
  {
   "cell_type": "code",
   "execution_count": 16,
   "metadata": {},
   "outputs": [
    {
     "data": {
      "text/plain": [
       "['POP_DENSITY',\n",
       " 'PCT_MALE',\n",
       " 'PCT_BLACK',\n",
       " 'PCT_HISPAN',\n",
       " 'PCT_AMIND',\n",
       " 'PCT_RURAL',\n",
       " 'PCT_COL_DE',\n",
       " 'PCT_TRUMP_',\n",
       " 'MED_HOS_IN',\n",
       " 'MAX_TEMP_T_1',\n",
       " 'MIN_TEMP_T_1',\n",
       " 'MAX_TEMP_T_2',\n",
       " 'MIN_TEMP_T_2',\n",
       " 'MAX_TEMP_T_3',\n",
       " 'MIN_TEMP_T_3',\n",
       " 'MAX_TEMP_T_4',\n",
       " 'MIN_TEMP_T_4',\n",
       " 'LOG_DELTA_INC_RATE_T_1',\n",
       " 'LOG_DELTA_INC_RATE_T_2',\n",
       " 'LOG_DELTA_INC_RATE_T_3',\n",
       " 'LOG_DELTA_INC_RATE_T_4',\n",
       " 'LOG_MEAN_INC_RATE_T_4']"
      ]
     },
     "execution_count": 16,
     "metadata": {},
     "output_type": "execute_result"
    }
   ],
   "source": [
    "base_features"
   ]
  },
  {
   "cell_type": "markdown",
   "metadata": {},
   "source": [
    "### 1.2. The list of features in -FB models"
   ]
  },
  {
   "cell_type": "code",
   "execution_count": 17,
   "metadata": {},
   "outputs": [],
   "source": [
    "spc_cols = [col for col in covid_df.columns if 'DELTA_SPC' in col]"
   ]
  },
  {
   "cell_type": "code",
   "execution_count": 18,
   "metadata": {},
   "outputs": [],
   "source": [
    "rel_cols = [col for col in covid_df.columns if 'REL_' in col]\n",
    "rel_cols_non_delta = [col for col in rel_cols if 'DELTA' in col]\n",
    "rel_cols = list(set(rel_cols)^set(rel_cols_non_delta))"
   ]
  },
  {
   "cell_type": "code",
   "execution_count": 19,
   "metadata": {},
   "outputs": [],
   "source": [
    "ratio_cols = [col for col in covid_df.columns if 'RATIO_' in col]\n",
    "ratio_cols_non_delta = [col for col in ratio_cols if 'DELTA' in col]\n",
    "ratio_cols = list(set(ratio_cols)^set(ratio_cols_non_delta))"
   ]
  },
  {
   "cell_type": "code",
   "execution_count": 20,
   "metadata": {},
   "outputs": [],
   "source": [
    "facebook_features = socio_cols + temp_cols + rel_cols + ratio_cols + spc_cols  + inc_cols  "
   ]
  },
  {
   "cell_type": "code",
   "execution_count": 21,
   "metadata": {},
   "outputs": [],
   "source": [
    "facebook_features.extend(('LOG_MEAN_INC_RATE_T_4', 'MEAN_SPC_T_4'))"
   ]
  },
  {
   "cell_type": "code",
   "execution_count": 22,
   "metadata": {},
   "outputs": [
    {
     "data": {
      "text/plain": [
       "['POP_DENSITY',\n",
       " 'PCT_MALE',\n",
       " 'PCT_BLACK',\n",
       " 'PCT_HISPAN',\n",
       " 'PCT_AMIND',\n",
       " 'PCT_RURAL',\n",
       " 'PCT_COL_DE',\n",
       " 'PCT_TRUMP_',\n",
       " 'MED_HOS_IN',\n",
       " 'MAX_TEMP_T_1',\n",
       " 'MIN_TEMP_T_1',\n",
       " 'MAX_TEMP_T_2',\n",
       " 'MIN_TEMP_T_2',\n",
       " 'MAX_TEMP_T_3',\n",
       " 'MIN_TEMP_T_3',\n",
       " 'MAX_TEMP_T_4',\n",
       " 'MIN_TEMP_T_4',\n",
       " 'SLOPE_REL_MOB_T_1',\n",
       " 'MEAN_REL_MOB_T_1',\n",
       " 'SLOPE_REL_MOB_T_3',\n",
       " 'MEAN_REL_MOB_T_3',\n",
       " 'MEAN_REL_MOB_T_4',\n",
       " 'SLOPE_REL_MOB_T_2',\n",
       " 'MEAN_REL_MOB_T_2',\n",
       " 'SLOPE_REL_MOB_T_4',\n",
       " 'SLOPE_RATIO_MOB_T_2',\n",
       " 'SLOPE_RATIO_MOB_T_4',\n",
       " 'MEAN_RATIO_MOB_T_2',\n",
       " 'SLOPE_RATIO_MOB_T_3',\n",
       " 'MEAN_RATIO_MOB_T_3',\n",
       " 'MEAN_RATIO_MOB_T_4',\n",
       " 'MEAN_RATIO_MOB_T_1',\n",
       " 'SLOPE_RATIO_MOB_T_1',\n",
       " 'DELTA_SPC_T_1',\n",
       " 'DELTA_SPC_T_2',\n",
       " 'DELTA_SPC_T_3',\n",
       " 'DELTA_SPC_T_4',\n",
       " 'LOG_DELTA_INC_RATE_T_1',\n",
       " 'LOG_DELTA_INC_RATE_T_2',\n",
       " 'LOG_DELTA_INC_RATE_T_3',\n",
       " 'LOG_DELTA_INC_RATE_T_4',\n",
       " 'LOG_MEAN_INC_RATE_T_4',\n",
       " 'MEAN_SPC_T_4']"
      ]
     },
     "execution_count": 22,
     "metadata": {},
     "output_type": "execute_result"
    }
   ],
   "source": [
    "facebook_features"
   ]
  },
  {
   "cell_type": "markdown",
   "metadata": {},
   "source": [
    "### 1.3. The list of features in -SG models"
   ]
  },
  {
   "cell_type": "code",
   "execution_count": 23,
   "metadata": {},
   "outputs": [],
   "source": [
    "fpc_cols = [col for col in covid_df.columns if 'DELTA_FPC' in col]"
   ]
  },
  {
   "cell_type": "code",
   "execution_count": 24,
   "metadata": {
    "colab": {
     "base_uri": "https://localhost:8080/"
    },
    "id": "grfPd6apJkha",
    "outputId": "c3293cdf-2ed9-4855-a512-62bcbf5e7029"
   },
   "outputs": [],
   "source": [
    "pct_home_cols = [col for col in covid_df.columns if 'completely_home_' in col]\n",
    "pct_home_cols_non_base = [col for col in pct_home_cols if 'baselined' in col]\n",
    "pct_home_cols = list(set(pct_home_cols)^set(pct_home_cols_non_base))"
   ]
  },
  {
   "cell_type": "code",
   "execution_count": 25,
   "metadata": {
    "colab": {
     "base_uri": "https://localhost:8080/"
    },
    "id": "DESQg6ZWJ35_",
    "outputId": "720a95b0-9971-49c4-e734-6e74fc14846a"
   },
   "outputs": [],
   "source": [
    "dist_traveled_cols = [col for col in covid_df.columns if 'distance_traveled_' in col]\n",
    "dist_traveled_cols_non_current = [col for col in dist_traveled_cols if 'current' in col]\n",
    "dist_traveled_cols = list(set(dist_traveled_cols)^set(dist_traveled_cols_non_current))"
   ]
  },
  {
   "cell_type": "code",
   "execution_count": 26,
   "metadata": {
    "id": "j_kXAjn7Hj68"
   },
   "outputs": [],
   "source": [
    "safegraph_features = socio_cols + temp_cols + pct_home_cols + dist_traveled_cols + fpc_cols + inc_cols"
   ]
  },
  {
   "cell_type": "code",
   "execution_count": 27,
   "metadata": {},
   "outputs": [],
   "source": [
    "safegraph_features.extend(('LOG_MEAN_INC_RATE_T_4','MEAN_FPC_T_4'))"
   ]
  },
  {
   "cell_type": "code",
   "execution_count": 28,
   "metadata": {
    "colab": {
     "base_uri": "https://localhost:8080/"
    },
    "id": "n38N_4qWqFm0",
    "outputId": "c9b39c0f-bfc4-42f1-db77-7b7934bcd892"
   },
   "outputs": [
    {
     "data": {
      "text/plain": [
       "['POP_DENSITY',\n",
       " 'PCT_MALE',\n",
       " 'PCT_BLACK',\n",
       " 'PCT_HISPAN',\n",
       " 'PCT_AMIND',\n",
       " 'PCT_RURAL',\n",
       " 'PCT_COL_DE',\n",
       " 'PCT_TRUMP_',\n",
       " 'MED_HOS_IN',\n",
       " 'MAX_TEMP_T_1',\n",
       " 'MIN_TEMP_T_1',\n",
       " 'MAX_TEMP_T_2',\n",
       " 'MIN_TEMP_T_2',\n",
       " 'MAX_TEMP_T_3',\n",
       " 'MIN_TEMP_T_3',\n",
       " 'MAX_TEMP_T_4',\n",
       " 'MIN_TEMP_T_4',\n",
       " 'pct_completely_home_device_count_slope_T_2',\n",
       " 'pct_completely_home_device_count_slope_T_3',\n",
       " 'pct_completely_home_device_count_current_T_2',\n",
       " 'pct_completely_home_device_count_slope_T_1',\n",
       " 'pct_completely_home_device_count_current_T_1',\n",
       " 'pct_completely_home_device_count_slope_T_4',\n",
       " 'pct_completely_home_device_count_current_T_3',\n",
       " 'pct_completely_home_device_count_current_T_4',\n",
       " 'distance_traveled_from_home_baselined_T_4',\n",
       " 'distance_traveled_from_home_baselined_T_3',\n",
       " 'distance_traveled_from_home_slope_T_1',\n",
       " 'distance_traveled_from_home_baselined_T_2',\n",
       " 'distance_traveled_from_home_slope_T_4',\n",
       " 'distance_traveled_from_home_baselined_T_1',\n",
       " 'distance_traveled_from_home_slope_T_3',\n",
       " 'distance_traveled_from_home_slope_T_2',\n",
       " 'DELTA_FPC_T_1',\n",
       " 'DELTA_FPC_T_2',\n",
       " 'DELTA_FPC_T_3',\n",
       " 'DELTA_FPC_T_4',\n",
       " 'LOG_DELTA_INC_RATE_T_1',\n",
       " 'LOG_DELTA_INC_RATE_T_2',\n",
       " 'LOG_DELTA_INC_RATE_T_3',\n",
       " 'LOG_DELTA_INC_RATE_T_4',\n",
       " 'LOG_MEAN_INC_RATE_T_4',\n",
       " 'MEAN_FPC_T_4']"
      ]
     },
     "execution_count": 28,
     "metadata": {},
     "output_type": "execute_result"
    }
   ],
   "source": [
    "safegraph_features"
   ]
  },
  {
   "cell_type": "markdown",
   "metadata": {},
   "source": [
    "### 1.4. The list of features in -SGR models"
   ]
  },
  {
   "cell_type": "code",
   "execution_count": 29,
   "metadata": {
    "colab": {
     "base_uri": "https://localhost:8080/"
    },
    "id": "1xU-x5DZH4w9",
    "outputId": "315f2cbf-3c01-401a-dfc7-d24c25c6abb9"
   },
   "outputs": [],
   "source": [
    "baselined_cols = [col for col in covid_df.columns if 'baselined_' in col]"
   ]
  },
  {
   "cell_type": "code",
   "execution_count": 30,
   "metadata": {
    "colab": {
     "base_uri": "https://localhost:8080/"
    },
    "id": "hpIJZ-agIEeK",
    "outputId": "e63e2864-d36c-4c05-f39e-f3ee1a68ca9f"
   },
   "outputs": [],
   "source": [
    "slope_cols = [col for col in covid_df.columns if 'slope_' in col]"
   ]
  },
  {
   "cell_type": "code",
   "execution_count": 31,
   "metadata": {},
   "outputs": [],
   "source": [
    "safegraph_full_features = safegraph_features + baselined_cols + slope_cols"
   ]
  },
  {
   "cell_type": "code",
   "execution_count": 32,
   "metadata": {},
   "outputs": [],
   "source": [
    "safegraph_full_features = set(safegraph_full_features)"
   ]
  },
  {
   "cell_type": "code",
   "execution_count": 33,
   "metadata": {},
   "outputs": [
    {
     "data": {
      "text/plain": [
       "{'DELTA_FPC_T_1',\n",
       " 'DELTA_FPC_T_2',\n",
       " 'DELTA_FPC_T_3',\n",
       " 'DELTA_FPC_T_4',\n",
       " 'LOG_DELTA_INC_RATE_T_1',\n",
       " 'LOG_DELTA_INC_RATE_T_2',\n",
       " 'LOG_DELTA_INC_RATE_T_3',\n",
       " 'LOG_DELTA_INC_RATE_T_4',\n",
       " 'LOG_MEAN_INC_RATE_T_4',\n",
       " 'MAX_TEMP_T_1',\n",
       " 'MAX_TEMP_T_2',\n",
       " 'MAX_TEMP_T_3',\n",
       " 'MAX_TEMP_T_4',\n",
       " 'MEAN_FPC_T_4',\n",
       " 'MED_HOS_IN',\n",
       " 'MIN_TEMP_T_1',\n",
       " 'MIN_TEMP_T_2',\n",
       " 'MIN_TEMP_T_3',\n",
       " 'MIN_TEMP_T_4',\n",
       " 'PCT_AMIND',\n",
       " 'PCT_BLACK',\n",
       " 'PCT_COL_DE',\n",
       " 'PCT_HISPAN',\n",
       " 'PCT_MALE',\n",
       " 'PCT_RURAL',\n",
       " 'PCT_TRUMP_',\n",
       " 'POP_DENSITY',\n",
       " 'distance_traveled_from_home_baselined_T_1',\n",
       " 'distance_traveled_from_home_baselined_T_2',\n",
       " 'distance_traveled_from_home_baselined_T_3',\n",
       " 'distance_traveled_from_home_baselined_T_4',\n",
       " 'distance_traveled_from_home_slope_T_1',\n",
       " 'distance_traveled_from_home_slope_T_2',\n",
       " 'distance_traveled_from_home_slope_T_3',\n",
       " 'distance_traveled_from_home_slope_T_4',\n",
       " 'median_home_dwell_time_baselined_T_1',\n",
       " 'median_home_dwell_time_baselined_T_2',\n",
       " 'median_home_dwell_time_baselined_T_3',\n",
       " 'median_home_dwell_time_baselined_T_4',\n",
       " 'median_home_dwell_time_slope_T_1',\n",
       " 'median_home_dwell_time_slope_T_2',\n",
       " 'median_home_dwell_time_slope_T_3',\n",
       " 'median_home_dwell_time_slope_T_4',\n",
       " 'pct_completely_home_device_count_baselined_T_1',\n",
       " 'pct_completely_home_device_count_baselined_T_2',\n",
       " 'pct_completely_home_device_count_baselined_T_3',\n",
       " 'pct_completely_home_device_count_baselined_T_4',\n",
       " 'pct_completely_home_device_count_current_T_1',\n",
       " 'pct_completely_home_device_count_current_T_2',\n",
       " 'pct_completely_home_device_count_current_T_3',\n",
       " 'pct_completely_home_device_count_current_T_4',\n",
       " 'pct_completely_home_device_count_slope_T_1',\n",
       " 'pct_completely_home_device_count_slope_T_2',\n",
       " 'pct_completely_home_device_count_slope_T_3',\n",
       " 'pct_completely_home_device_count_slope_T_4',\n",
       " 'pct_delivery_behavior_devices_baselined_T_1',\n",
       " 'pct_delivery_behavior_devices_baselined_T_2',\n",
       " 'pct_delivery_behavior_devices_baselined_T_3',\n",
       " 'pct_delivery_behavior_devices_baselined_T_4',\n",
       " 'pct_delivery_behavior_devices_slope_T_1',\n",
       " 'pct_delivery_behavior_devices_slope_T_2',\n",
       " 'pct_delivery_behavior_devices_slope_T_3',\n",
       " 'pct_delivery_behavior_devices_slope_T_4',\n",
       " 'pct_full_time_work_behavior_devices_baselined_T_1',\n",
       " 'pct_full_time_work_behavior_devices_baselined_T_2',\n",
       " 'pct_full_time_work_behavior_devices_baselined_T_3',\n",
       " 'pct_full_time_work_behavior_devices_baselined_T_4',\n",
       " 'pct_full_time_work_behavior_devices_slope_T_1',\n",
       " 'pct_full_time_work_behavior_devices_slope_T_2',\n",
       " 'pct_full_time_work_behavior_devices_slope_T_3',\n",
       " 'pct_full_time_work_behavior_devices_slope_T_4',\n",
       " 'pct_part_time_work_behavior_devices_baselined_T_1',\n",
       " 'pct_part_time_work_behavior_devices_baselined_T_2',\n",
       " 'pct_part_time_work_behavior_devices_baselined_T_3',\n",
       " 'pct_part_time_work_behavior_devices_baselined_T_4',\n",
       " 'pct_part_time_work_behavior_devices_slope_T_1',\n",
       " 'pct_part_time_work_behavior_devices_slope_T_2',\n",
       " 'pct_part_time_work_behavior_devices_slope_T_3',\n",
       " 'pct_part_time_work_behavior_devices_slope_T_4'}"
      ]
     },
     "execution_count": 33,
     "metadata": {},
     "output_type": "execute_result"
    }
   ],
   "source": [
    "safegraph_full_features"
   ]
  },
  {
   "cell_type": "code",
   "execution_count": 34,
   "metadata": {},
   "outputs": [],
   "source": [
    " features_to_remove=['pct_completely_home_device_count_current_T_1',\n",
    " 'pct_completely_home_device_count_current_T_2',\n",
    " 'pct_completely_home_device_count_current_T_3',\n",
    " 'pct_completely_home_device_count_current_T_4',\n",
    " 'pct_delivery_behavior_devices_baselined_T_1',\n",
    " 'pct_delivery_behavior_devices_baselined_T_2',\n",
    " 'pct_delivery_behavior_devices_baselined_T_3',\n",
    " 'pct_delivery_behavior_devices_baselined_T_4',\n",
    " 'pct_delivery_behavior_devices_slope_T_1',\n",
    " 'pct_delivery_behavior_devices_slope_T_2',\n",
    " 'pct_delivery_behavior_devices_slope_T_3',\n",
    " 'pct_delivery_behavior_devices_slope_T_4',\n",
    " 'pct_part_time_work_behavior_devices_baselined_T_1',\n",
    " 'pct_part_time_work_behavior_devices_baselined_T_2',\n",
    " 'pct_part_time_work_behavior_devices_baselined_T_3',\n",
    " 'pct_part_time_work_behavior_devices_baselined_T_4',\n",
    " 'pct_part_time_work_behavior_devices_slope_T_1',\n",
    " 'pct_part_time_work_behavior_devices_slope_T_2',\n",
    " 'pct_part_time_work_behavior_devices_slope_T_3',\n",
    " 'pct_part_time_work_behavior_devices_slope_T_4']"
   ]
  },
  {
   "cell_type": "code",
   "execution_count": null,
   "metadata": {},
   "outputs": [],
   "source": []
  },
  {
   "cell_type": "code",
   "execution_count": 35,
   "metadata": {},
   "outputs": [],
   "source": [
    "safegraph_full_features = list(safegraph_full_features)"
   ]
  },
  {
   "cell_type": "code",
   "execution_count": 36,
   "metadata": {},
   "outputs": [],
   "source": [
    "safegraph_full_features = [i for i in safegraph_full_features if i not in features_to_remove]"
   ]
  },
  {
   "cell_type": "code",
   "execution_count": 37,
   "metadata": {},
   "outputs": [
    {
     "data": {
      "text/plain": [
       "140"
      ]
     },
     "execution_count": 37,
     "metadata": {},
     "output_type": "execute_result"
    }
   ],
   "source": [
    "np.isinf(covid_df[safegraph_full_features].values).sum()"
   ]
  },
  {
   "cell_type": "markdown",
   "metadata": {},
   "source": [
    "### 1.5. Removing inf values from the dataframe"
   ]
  },
  {
   "cell_type": "code",
   "execution_count": 38,
   "metadata": {},
   "outputs": [],
   "source": [
    "covid_df = covid_df.replace([np.inf, -np.inf], np.NaN)"
   ]
  },
  {
   "cell_type": "code",
   "execution_count": 39,
   "metadata": {},
   "outputs": [
    {
     "data": {
      "text/plain": [
       "140"
      ]
     },
     "execution_count": 39,
     "metadata": {},
     "output_type": "execute_result"
    }
   ],
   "source": [
    "covid_df.isna().sum().sum()"
   ]
  },
  {
   "cell_type": "code",
   "execution_count": 40,
   "metadata": {},
   "outputs": [],
   "source": [
    "na_cols = covid_df.columns[covid_df.isna().any()].tolist()"
   ]
  },
  {
   "cell_type": "code",
   "execution_count": 41,
   "metadata": {},
   "outputs": [],
   "source": [
    "for col in na_cols:\n",
    "    covid_df[col] = covid_df.groupby(['date_start_period','STATEFP'])[col].transform(lambda x: x.fillna(x.mean()))"
   ]
  },
  {
   "cell_type": "code",
   "execution_count": 42,
   "metadata": {},
   "outputs": [
    {
     "data": {
      "text/plain": [
       "0"
      ]
     },
     "execution_count": 42,
     "metadata": {},
     "output_type": "execute_result"
    }
   ],
   "source": [
    "covid_df.isna().sum().sum()"
   ]
  },
  {
   "cell_type": "markdown",
   "metadata": {},
   "source": [
    "## 2. Manual time series split\n",
    "\n",
    "The dataset is initially divided into a 30-week subset for training and a 1-week subset for testing.\n",
    "\n",
    "At each time step, the size of training weeks increases by 1 and the test week has a 1-week shift towards the end of November"
   ]
  },
  {
   "cell_type": "code",
   "execution_count": 43,
   "metadata": {},
   "outputs": [],
   "source": [
    "import geopandas as gpd\n",
    "\n",
    "counties_shp = gpd.read_file(input_directory +'Conterminous_US_counties.geojson')"
   ]
  },
  {
   "cell_type": "code",
   "execution_count": 44,
   "metadata": {},
   "outputs": [],
   "source": [
    "county_cols = ['GEOID', 'Pacts','Region_N', 'Division_N',\n",
    "       'ALAND', 'AWATER', 'POPULATION', 'geometry']"
   ]
  },
  {
   "cell_type": "code",
   "execution_count": 45,
   "metadata": {},
   "outputs": [],
   "source": [
    "counties_shp = counties_shp[county_cols]"
   ]
  },
  {
   "cell_type": "code",
   "execution_count": 47,
   "metadata": {},
   "outputs": [],
   "source": [
    "training_size = 30 # week\n",
    "testing_size = 1 # week\n",
    "num_counties = 3103\n",
    "time_steps = 5"
   ]
  },
  {
   "cell_type": "markdown",
   "metadata": {},
   "source": [
    "## 3. Training SGB on Time Series Splits "
   ]
  },
  {
   "cell_type": "code",
   "execution_count": 46,
   "metadata": {},
   "outputs": [],
   "source": [
    "counties_sgd = counties_shp.copy()"
   ]
  },
  {
   "cell_type": "code",
   "execution_count": 101,
   "metadata": {},
   "outputs": [
    {
     "name": "stdout",
     "output_type": "stream",
     "text": [
      "Model base in time step 0 done!\n",
      "Model safegraph in time step 0 done!\n",
      "Model facebook in time step 0 done!\n",
      "Model safegraph_full in time step 0 done!\n",
      "Model base in time step 1 done!\n",
      "Model safegraph in time step 1 done!\n",
      "Model facebook in time step 1 done!\n",
      "Model safegraph_full in time step 1 done!\n",
      "Model base in time step 2 done!\n",
      "Model safegraph in time step 2 done!\n",
      "Model facebook in time step 2 done!\n",
      "Model safegraph_full in time step 2 done!\n",
      "Model base in time step 3 done!\n",
      "Model safegraph in time step 3 done!\n",
      "Model facebook in time step 3 done!\n",
      "Model safegraph_full in time step 3 done!\n",
      "Model base in time step 4 done!\n",
      "Model safegraph in time step 4 done!\n",
      "Model facebook in time step 4 done!\n",
      "Model safegraph_full in time step 4 done!\n"
     ]
    }
   ],
   "source": [
    "train_r2 = dict()\n",
    "train_rmse = dict()\n",
    "train_mae = dict()\n",
    "test_rmse = dict()\n",
    "test_mae = dict()\n",
    "tuned_params = dict()\n",
    "\n",
    "models=['base', 'safegraph', 'facebook', 'safegraph_full']\n",
    "features = [base_features, safegraph_features, facebook_features, safegraph_full_features]\n",
    "\n",
    "gb_params = dict(learning_rate=np.arange(0.05,0.3,0.05), \n",
    "                     n_estimators=np.arange(100,1000,100), \n",
    "                     subsample = np.arange(0.1,0.9,0.05),\n",
    "                     max_depth=[int(i) for i in np.arange(1,10,1)],\n",
    "                     max_features = ['sqrt', 'log2']) \n",
    "\n",
    "for i in range(time_steps):\n",
    "    \n",
    "    training_df = covid_df.iloc[:(i+training_size)*num_counties,:]\n",
    "    testing_df = covid_df.iloc[(i+training_size)*num_counties:(i+training_size+testing_size)*num_counties,:]\n",
    "    testing_df = testing_df.merge(counties_sgd[['GEOID','POPULATION']], how='left', on='GEOID')\n",
    "    \n",
    "    for model,feature in zip(models, features):\n",
    "    \n",
    "        X_train = training_df[feature]\n",
    "        y_train = training_df['LOG_DELTA_INC_RATE_T']\n",
    "        X_test = testing_df[feature]\n",
    "        y_test = testing_df['LOG_DELTA_INC_RATE_T'] \n",
    "\n",
    "        #scaling X\n",
    "        scaler = StandardScaler()\n",
    "        X_train = scaler.fit_transform(X_train)\n",
    "        X_test = scaler.transform(X_test)\n",
    "\n",
    "\n",
    "        #cross validation\n",
    "        gb_regressor = GradientBoostingRegressor(random_state=21)\n",
    "\n",
    "        gb_cv = RandomizedSearchCV(gb_regressor, gb_params, random_state=21, scoring='neg_root_mean_squared_error', n_jobs=-1)\n",
    "        gb_optimized = gb_cv.fit(X_train, y_train)\n",
    "        best_gbr = gb_optimized.best_estimator_\n",
    "        tuned_params[model, i] = gb_optimized.best_params_\n",
    "\n",
    "        # model evaluation for training set\n",
    "        train_r2_gbr = round(best_gbr.score(X_train, y_train),2)\n",
    "        train_r2[model, i] = train_r2_gbr\n",
    "\n",
    "        y_train_predicted_gbr = best_gbr.predict(X_train)\n",
    "        rmse_train_gbr = (np.sqrt(mean_squared_error(y_train, y_train_predicted_gbr)))\n",
    "        train_rmse[model, i] = rmse_train_gbr\n",
    "        train_mae[model, i] =  mean_absolute_error(y_train, y_train_predicted_gbr)\n",
    "\n",
    "        # model evaluation for test set\n",
    "        y_test_predicted_gbr = best_gbr.predict(X_test)\n",
    "        rmse_test_gbr = (np.sqrt(mean_squared_error(y_test, y_test_predicted_gbr)))\n",
    "        test_rmse[model, i] = rmse_test_gbr\n",
    "        test_mae[model, i] = mean_absolute_error(y_test, y_test_predicted_gbr)\n",
    "        \n",
    "        #feature importance\n",
    "        \n",
    "        gbr_importance = pd.concat([pd.DataFrame(feature, columns={'variable'}),pd.DataFrame(np.transpose(best_gbr.feature_importances_), columns={'Importance'})], axis = 1) \n",
    "        gbr_importance.sort_values(by='Importance', ascending=False, inplace=True)\n",
    "        gbr_importance.to_csv('./output/SGB_importance_' + model + '_' + str(i) + '.csv')\n",
    "        \n",
    "        # add labels and predictions to a county data frame\n",
    "        col_suffix = model +'_' + str(i)\n",
    "        \n",
    "        testing_df.loc[:,'y_test_'+ col_suffix] = y_test\n",
    "        testing_df.loc[:,'y_predicted_'+ col_suffix] = y_test_predicted_gbr\n",
    "        \n",
    "        testing_df['delta_inc_test_'+ col_suffix] = np.exp(testing_df['y_test_'+ col_suffix]) - 1\n",
    "        testing_df['delta_inc_pred_'+ col_suffix] = np.exp(testing_df['y_predicted_'+ col_suffix]) - 1\n",
    "        \n",
    "        testing_df['delta_case_test_'+ col_suffix] = (testing_df['delta_inc_test_'+ col_suffix] * testing_df['POPULATION']) / 10000\n",
    "        testing_df['delta_case_pred_'+ col_suffix] = (testing_df['delta_inc_pred_'+ col_suffix] * testing_df['POPULATION']) / 10000\n",
    "        \n",
    "        testing_df['error_y_'+ col_suffix] = testing_df['y_test_'+ col_suffix] - testing_df['y_predicted_'+ col_suffix]\n",
    "        testing_df['error_delta_inc_'+ col_suffix] = testing_df['delta_inc_test_'+ col_suffix] - testing_df['delta_inc_pred_'+ col_suffix]\n",
    "        testing_df['error_delta_case_'+ col_suffix] = testing_df['delta_case_test_'+ col_suffix] - testing_df['delta_case_pred_'+ col_suffix]\n",
    "        \n",
    "        test_cols = ['GEOID',  \n",
    "                     'y_test_'+ col_suffix, 'y_predicted_'+ col_suffix, \n",
    "                     'delta_inc_test_'+ col_suffix,  'delta_inc_pred_'+ col_suffix,\n",
    "                     'delta_case_test_'+ col_suffix, 'delta_case_pred_'+ col_suffix,\n",
    "                     'error_y_'+ col_suffix, 'error_delta_inc_'+ col_suffix, 'error_delta_case_'+ col_suffix]\n",
    "        \n",
    "        counties_sgd = counties_sgd.merge(testing_df[test_cols], how='left', on='GEOID')\n",
    "        \n",
    "        print('Model {} in time step {} done!'.format(model, i))"
   ]
  },
  {
   "cell_type": "markdown",
   "metadata": {},
   "source": [
    "## 4. Training RF on Time Series Splits"
   ]
  },
  {
   "cell_type": "code",
   "execution_count": 399,
   "metadata": {},
   "outputs": [],
   "source": [
    "counties_rf = counties_shp.copy()"
   ]
  },
  {
   "cell_type": "code",
   "execution_count": 400,
   "metadata": {},
   "outputs": [
    {
     "name": "stdout",
     "output_type": "stream",
     "text": [
      "Model base in time step 0 done!\n",
      "Model safegraph in time step 0 done!\n",
      "Model facebook in time step 0 done!\n",
      "Model safegraph_full in time step 0 done!\n",
      "Model base in time step 1 done!\n",
      "Model safegraph in time step 1 done!\n",
      "Model facebook in time step 1 done!\n",
      "Model safegraph_full in time step 1 done!\n",
      "Model base in time step 2 done!\n",
      "Model safegraph in time step 2 done!\n",
      "Model facebook in time step 2 done!\n",
      "Model safegraph_full in time step 2 done!\n",
      "Model base in time step 3 done!\n",
      "Model safegraph in time step 3 done!\n",
      "Model facebook in time step 3 done!\n",
      "Model safegraph_full in time step 3 done!\n",
      "Model base in time step 4 done!\n",
      "Model safegraph in time step 4 done!\n",
      "Model facebook in time step 4 done!\n",
      "Model safegraph_full in time step 4 done!\n"
     ]
    }
   ],
   "source": [
    "train_r2_rf = dict()\n",
    "train_rmse_rf = dict()\n",
    "train_mae_rf = dict()\n",
    "test_rmse_rf = dict()\n",
    "test_mae_rf = dict()\n",
    "tuned_params_rf = dict()\n",
    "\n",
    "models=['base', 'safegraph', 'facebook', 'safegraph_full']\n",
    "features = [base_features, safegraph_features, facebook_features, safegraph_full_features]\n",
    "\n",
    "rf_params = {'max_depth':np.arange(1,10,1),\n",
    "             'min_samples_split':np.arange(2,50,1),\n",
    "             'min_samples_leaf':np.arange(2,50,1),\n",
    "             'max_features':['sqrt', 'log2']}\n",
    "\n",
    "for i in range(time_steps):\n",
    "    \n",
    "    training_df = covid_df.iloc[:(i+training_size)*num_counties,:]\n",
    "    testing_df = covid_df.iloc[(i+training_size)*num_counties:(i+training_size+testing_size)*num_counties,:]\n",
    "    testing_df = testing_df.merge(counties_rf[['GEOID','POPULATION']], how='left', on='GEOID')\n",
    "    \n",
    "    for model,feature in zip(models, features):\n",
    "\n",
    "        X_train = training_df[feature]\n",
    "        y_train = training_df['LOG_DELTA_INC_RATE_T']\n",
    "        X_test = testing_df[feature]\n",
    "        y_test = testing_df['LOG_DELTA_INC_RATE_T'] \n",
    "\n",
    "        #scaling X\n",
    "        scaler = StandardScaler()\n",
    "        X_train = scaler.fit_transform(X_train)\n",
    "        X_test = scaler.transform(X_test)\n",
    "\n",
    "        #cross validation\n",
    "        rf_regressor = RandomForestRegressor(random_state=21)\n",
    "        rf_regressor_cv = RandomizedSearchCV(rf_regressor, rf_params, scoring='neg_root_mean_squared_error', random_state=21, n_jobs=-1)\n",
    "        \n",
    "        rf_optimized = rf_regressor_cv.fit(X_train, y_train)\n",
    "        best_rf_regressor = rf_optimized.best_estimator_\n",
    "        tuned_params_rf[model, i] = rf_optimized.best_params_\n",
    "    #     best_gbr.fit(X_train, y_train)\n",
    "\n",
    "        # model evaluation for training set\n",
    "        r2_train_rf = round(best_rf_regressor.score(X_train, y_train),2)\n",
    "        train_r2_rf[model, i] = r2_train_rf\n",
    "\n",
    "        y_train_predicted_rf = best_rf_regressor.predict(X_train)\n",
    "        rmse_train_rf = (np.sqrt(mean_squared_error(y_train, y_train_predicted_rf)))\n",
    "        train_rmse_rf[model, i] = rmse_train_rf\n",
    "        train_mae_rf[model, i] =  mean_absolute_error(y_train, y_train_predicted_rf)\n",
    "\n",
    "        # model evaluation for test set\n",
    "        y_test_predicted_rf = best_rf_regressor.predict(X_test)\n",
    "        rmse_test_rf = (np.sqrt(mean_squared_error(y_test, y_test_predicted_rf)))\n",
    "        test_rmse_rf[model, i] = rmse_test_rf\n",
    "        test_mae_rf[model, i] = mean_absolute_error(y_test, y_test_predicted_rf)\n",
    "        \n",
    "        #feature importance\n",
    "        \n",
    "        rf_importance = pd.concat([pd.DataFrame(feature, columns={'variable'}),pd.DataFrame(np.transpose(best_rf_regressor.feature_importances_), columns={'Importance'})], axis = 1) \n",
    "        rf_importance.sort_values(by='Importance', ascending=False, inplace=True)\n",
    "        rf_importance.to_csv('./output/RF_importance_' + model + '_' + str(i) + '.csv')\n",
    "        \n",
    "        col_suffix = model +'_' + str(i)\n",
    "        \n",
    "        testing_df.loc[:,'y_test_'+ col_suffix] = y_test\n",
    "        testing_df.loc[:,'y_predicted_'+ col_suffix] = y_test_predicted_rf\n",
    "        \n",
    "        testing_df['delta_inc_test_'+ col_suffix] = np.exp(testing_df['y_test_'+ col_suffix]) - 1\n",
    "        testing_df['delta_inc_pred_'+ col_suffix] = np.exp(testing_df['y_predicted_'+ col_suffix]) - 1\n",
    "        \n",
    "        testing_df['delta_case_test_'+ col_suffix] = (testing_df['delta_inc_test_'+ col_suffix] * testing_df['POPULATION']) / 10000\n",
    "        testing_df['delta_case_pred_'+ col_suffix] = (testing_df['delta_inc_pred_'+ col_suffix] * testing_df['POPULATION']) / 10000\n",
    "        \n",
    "        testing_df['error_y_'+ col_suffix] = testing_df['y_test_'+ col_suffix] - testing_df['y_predicted_'+ col_suffix]\n",
    "        testing_df['error_delta_inc_'+ col_suffix] = testing_df['delta_inc_test_'+ col_suffix] - testing_df['delta_inc_pred_'+ col_suffix]\n",
    "        testing_df['error_delta_case_'+ col_suffix] = testing_df['delta_case_test_'+ col_suffix] - testing_df['delta_case_pred_'+ col_suffix]\n",
    "        \n",
    "        test_cols = ['GEOID',  \n",
    "                     'y_test_'+ col_suffix, 'y_predicted_'+ col_suffix, \n",
    "                     'delta_inc_test_'+ col_suffix,  'delta_inc_pred_'+ col_suffix,\n",
    "                     'delta_case_test_'+ col_suffix, 'delta_case_pred_'+ col_suffix,\n",
    "                     'error_y_'+ col_suffix, 'error_delta_inc_'+ col_suffix, 'error_delta_case_'+ col_suffix]\n",
    "        \n",
    "        counties_rf = counties_rf.merge(testing_df[test_cols], how='left', on='GEOID')\n",
    "        print('Model {} in time step {} done!'.format(model, i))"
   ]
  },
  {
   "cell_type": "code",
   "execution_count": null,
   "metadata": {},
   "outputs": [],
   "source": []
  },
  {
   "cell_type": "markdown",
   "metadata": {
    "id": "z5bGOy3nbd2v"
   },
   "source": [
    "## 5. Training Feed Forward Neural Network on Time Series Splits\n"
   ]
  },
  {
   "cell_type": "code",
   "execution_count": 589,
   "metadata": {},
   "outputs": [
    {
     "name": "stderr",
     "output_type": "stream",
     "text": [
      "Using TensorFlow backend.\n"
     ]
    }
   ],
   "source": [
    "import tensorflow as tf\n",
    "from tensorflow import keras\n",
    "from tensorflow.keras.layers import Dropout, Flatten, Dense\n",
    "from keras import Sequential"
   ]
  },
  {
   "cell_type": "code",
   "execution_count": 590,
   "metadata": {},
   "outputs": [],
   "source": [
    "early_stop = keras.callbacks.EarlyStopping(monitor='val_mse', patience=4)"
   ]
  },
  {
   "cell_type": "code",
   "execution_count": 591,
   "metadata": {},
   "outputs": [],
   "source": [
    "# this helps makes our output less verbose but still shows progress\n",
    "class PrintDot(keras.callbacks.Callback):\n",
    "    def on_epoch_end(self, epoch, logs):\n",
    "        if epoch % 100 == 0: print('')\n",
    "        print('.', end='')"
   ]
  },
  {
   "cell_type": "code",
   "execution_count": 615,
   "metadata": {},
   "outputs": [
    {
     "name": "stdout",
     "output_type": "stream",
     "text": [
      "\n",
      "3103/3103 [==============================] - 0s 26us/sample - loss: 0.3850 - mae: 0.4833 - mse: 0.3850\n",
      "\n",
      "3103/3103 [==============================] - 0s 25us/sample - loss: 0.2505 - mae: 0.3652 - mse: 0.2505\n",
      "\n",
      "3103/3103 [==============================] - 0s 26us/sample - loss: 0.2368 - mae: 0.3696 - mse: 0.2368\n",
      "\n",
      "3103/3103 [==============================] - 0s 28us/sample - loss: 0.2559 - mae: 0.3741 - mse: 0.2559\n",
      "\n",
      "3103/3103 [==============================] - 0s 27us/sample - loss: 0.2435 - mae: 0.3559 - mse: 0.2435\n",
      "\n",
      "3103/3103 [==============================] - 0s 28us/sample - loss: 0.2150 - mae: 0.3202 - mse: 0.2150\n",
      "\n",
      "3103/3103 [==============================] - 0s 26us/sample - loss: 0.2274 - mae: 0.3434 - mse: 0.2274\n",
      "\n",
      "3103/3103 [==============================] - 0s 27us/sample - loss: 0.2362 - mae: 0.3510 - mse: 0.2362\n",
      "\n",
      "3103/3103 [==============================] - 0s 29us/sample - loss: 0.8330 - mae: 0.7609 - mse: 0.8330\n",
      "\n",
      "3103/3103 [==============================] - 0s 33us/sample - loss: 0.3855 - mae: 0.5058 - mse: 0.3855\n",
      "\n",
      "3103/3103 [==============================] - 0s 26us/sample - loss: 0.1904 - mae: 0.3094 - mse: 0.1904\n",
      "\n",
      "3103/3103 [==============================] - 0s 27us/sample - loss: 0.6241 - mae: 0.6679 - mse: 0.6241\n",
      "\n",
      "3103/3103 [==============================] - 0s 49us/sample - loss: 0.4956 - mae: 0.5667 - mse: 0.4956\n",
      "\n",
      "3103/3103 [==============================] - 0s 48us/sample - loss: 0.3687 - mae: 0.4850 - mse: 0.3687\n",
      "\n",
      "3103/3103 [==============================] - 0s 49us/sample - loss: 0.4321 - mae: 0.5488 - mse: 0.4321\n",
      "\n",
      "3103/3103 [==============================] - 0s 50us/sample - loss: 0.3137 - mae: 0.4348 - mse: 0.3137\n",
      "\n",
      "3103/3103 [==============================] - 0s 28us/sample - loss: 0.2941 - mae: 0.4208 - mse: 0.2941\n",
      "\n",
      "3103/3103 [==============================] - 0s 27us/sample - loss: 0.2486 - mae: 0.3754 - mse: 0.2486\n",
      "\n",
      "3103/3103 [==============================] - 0s 26us/sample - loss: 0.1620 - mae: 0.2734 - mse: 0.1620\n",
      "\n",
      "3103/3103 [==============================] - 0s 26us/sample - loss: 0.3039 - mae: 0.4405 - mse: 0.3039\n"
     ]
    }
   ],
   "source": [
    "train_r2_ff = dict()\n",
    "train_rmse_ff = dict()\n",
    "train_mae_ff = dict()\n",
    "test_rmse_ff = dict()\n",
    "test_mae_ff = dict()\n",
    "val_rmse_ff = dict()\n",
    "val_mae_ff =dict()\n",
    "\n",
    "\n",
    "models=['base', 'safegraph', 'facebook', 'safegraph_full']\n",
    "features = [base_features, safegraph_features, facebook_features, safegraph_full_features]\n",
    "\n",
    "\n",
    "\n",
    "for i in range(time_steps):\n",
    "    \n",
    "    training_df = covid_df.iloc[:(i+training_size)*num_counties,:]\n",
    "    testing_df = covid_df.iloc[(i+training_size)*num_counties:(i+training_size+testing_size)*num_counties,:]\n",
    "    \n",
    "    for model,feature in zip(models, features):\n",
    "\n",
    "        X_train = training_df[feature]\n",
    "        y_train = training_df['LOG_DELTA_INC_RATE_T']\n",
    "        X_test = testing_df[feature]\n",
    "        y_test = testing_df['LOG_DELTA_INC_RATE_T'] \n",
    "\n",
    "        #scaling X\n",
    "        scaler = StandardScaler()\n",
    "        X_train = scaler.fit_transform(X_train)\n",
    "        X_test = scaler.transform(X_test)\n",
    "\n",
    "\n",
    "        tf.random.set_seed(21)\n",
    "\n",
    "        ff_model = tf.keras.Sequential([\n",
    "            Dense(500, activation=tf.nn.relu),  # hidden layer\n",
    "            Dropout(.1),\n",
    "            Dense(500, activation=tf.nn.relu),  # hidden layer\n",
    "            Dropout(.1),\n",
    "            Dense(300, activation=tf.nn.relu),  # hidden layer\n",
    "            Dropout(.1),\n",
    "            Dense(300, activation=tf.nn.relu),  # hidden layer\n",
    "            Dropout(.1),\n",
    "            Dense(100, activation=tf.nn.relu),  # hidden layer\n",
    "            Dropout(.1),\n",
    "            Dense(1)\n",
    "        ])\n",
    "\n",
    "        ff_model.compile(optimizer=tf.optimizers.Adam(), \n",
    "                      loss='mse',\n",
    "                      metrics=['mae', 'mse'])\n",
    "        \n",
    "         \n",
    "\n",
    "\n",
    "        ff_model_fit = ff_model.fit(X_train, y_train.values, epochs=100, verbose=0, validation_split = 0.1,\n",
    "                    callbacks=[early_stop, PrintDot()])\n",
    "        \n",
    "        hist = pd.DataFrame(ff_model_fit.history)\n",
    "\n",
    "        loss, mae_test, mse_test = ff_model.evaluate(X_test, y_test)\n",
    "        \n",
    "        train_rmse_ff[model, i] = np.sqrt(float(hist['mse'].tail(1)))\n",
    "        train_mae_ff[model, i] = hist['mae'].tail(1)\n",
    "        \n",
    "        val_rmse_ff[model, i] = np.sqrt(float(hist['val_mse'].tail(1)))\n",
    "        val_mae_ff[model, i] = hist['val_mae'].tail(1)\n",
    "        \n",
    "        test_rmse_ff[model, i] = np.sqrt(mse_test)\n",
    "        test_mae_ff[model, i] = mae_test"
   ]
  },
  {
   "cell_type": "code",
   "execution_count": 614,
   "metadata": {},
   "outputs": [
    {
     "name": "stdout",
     "output_type": "stream",
     "text": [
      "3103/3103 [==============================] - 0s 28us/sample - loss: 0.2368 - mae: 0.3696 - mse: 0.2368\n"
     ]
    },
    {
     "data": {
      "text/plain": [
       "[0.23676532308132542, 0.36962178, 0.23676525]"
      ]
     },
     "execution_count": 614,
     "metadata": {},
     "output_type": "execute_result"
    }
   ],
   "source": [
    "ff_model.evaluate(X_test, y_test)"
   ]
  },
  {
   "cell_type": "code",
   "execution_count": 605,
   "metadata": {},
   "outputs": [
    {
     "name": "stdout",
     "output_type": "stream",
     "text": [
      "3103/3103 [==============================] - 0s 27us/sample - loss: 0.2368 - mae: 0.3696 - mse: 0.2368\n"
     ]
    }
   ],
   "source": [
    "loss, mae, mse = ff_model.evaluate(X_test, y_test)"
   ]
  },
  {
   "cell_type": "code",
   "execution_count": null,
   "metadata": {},
   "outputs": [],
   "source": []
  },
  {
   "cell_type": "markdown",
   "metadata": {},
   "source": [
    "## 6. Training LSTM on Time Series Splits"
   ]
  },
  {
   "cell_type": "code",
   "execution_count": 66,
   "metadata": {},
   "outputs": [],
   "source": [
    "from keras.layers import LSTM\n",
    "from tensorflow.keras import Sequential\n",
    "from tensorflow.keras.layers import LSTM, Flatten, Dense"
   ]
  },
  {
   "cell_type": "code",
   "execution_count": 715,
   "metadata": {},
   "outputs": [
    {
     "name": "stdout",
     "output_type": "stream",
     "text": [
      "3103/3103 [==============================] - 1s 186us/sample - loss: 1.5628 - mse: 4.9055 - mae: 2.0506\n",
      "3103/3103 [==============================] - 1s 183us/sample - loss: 1.6406 - mse: 5.2339 - mae: 2.1309\n",
      "3103/3103 [==============================] - 1s 179us/sample - loss: 1.9783 - mse: 6.9114 - mae: 2.4740\n",
      "3103/3103 [==============================] - 1s 181us/sample - loss: 2.1532 - mse: 7.7631 - mae: 2.6495\n",
      "3103/3103 [==============================] - 1s 178us/sample - loss: 2.1829 - mse: 7.7276 - mae: 2.6804\n"
     ]
    }
   ],
   "source": [
    "from tensorflow.keras import Sequential\n",
    "from tensorflow.keras.layers import LSTM, Flatten, Dense\n",
    "\n",
    "train_r2_lstm = dict()\n",
    "train_rmse_lstm = dict()\n",
    "train_mae_lstm = dict()\n",
    "test_rmse_lstm = dict()\n",
    "test_mae_lstm = dict()\n",
    "val_rmse_lstm = dict()\n",
    "val_mae_lstm =dict()\n",
    "\n",
    "\n",
    "models=['base', 'safegraph', 'facebook', 'safegraph_full']\n",
    "features = [base_features, safegraph_features, facebook_features, safegraph_full_features]\n",
    "\n",
    "\n",
    "\n",
    "for i in range(time_steps):\n",
    "    training_df = covid_df.iloc[:(i+training_size)*num_counties,:]\n",
    "    testing_df = covid_df.iloc[(i+training_size)*num_counties:(i+training_size+testing_size)*num_counties,:]\n",
    "    \n",
    "    for model,feature in zip(models, features):\n",
    "\n",
    "        training_features = training_df[feature]\n",
    "        training_y = training_df['LOG_DELTA_INC_RATE_T']\n",
    "        testing_features = testing_df[feature]\n",
    "        testing_y = testing_df['LOG_DELTA_INC_RATE_T'] \n",
    "\n",
    "        #scaling X\n",
    "        scaler = StandardScaler()\n",
    "        training_features = scaler.fit_transform(training_features)\n",
    "        testing_features = scaler.transform(testing_features)\n",
    "        \n",
    "        # reshaping for LSTM\n",
    "        \n",
    "        training_features_reshaped = training_features.reshape(-1,training_size+i,training_features.shape[1])\n",
    "        testing_features_reshaped = testing_features.reshape(-1,testing_size, testing_features.shape[1])\n",
    "        \n",
    "        training_y_reshaped = training_y.values.reshape(-1,training_size+i)\n",
    "        testing_y_reshaped = testing_y.values.reshape(-1,testing_size)\n",
    "        \n",
    "        \n",
    "        # create and fit the LSTM network\n",
    "        tf.random.set_seed(21)\n",
    "        \n",
    "        model_lstm = Sequential()\n",
    "        model_lstm.add(LSTM(20, return_sequences=True)) # input_shape=(training_size+i, training_features.shape[1])\n",
    "        model_lstm.add(LSTM(20))\n",
    "        model_lstm.add(Dense(1, activation='sigmoid'))\n",
    "        \n",
    "        model_lstm.compile(loss=tf.keras.losses.Huber(), optimizer='adam',  metrics=['mse', 'mae'])\n",
    "        \n",
    "        model_lstm_fit = model_lstm.fit(training_features_reshaped, training_y_reshaped, epochs=10, \n",
    "                                        validation_split = 0.1 ,batch_size=1, verbose=0)\n",
    "        \n",
    "        hist = pd.DataFrame(model_lstm_fit.history)\n",
    "\n",
    "        loss, mse_test, mae_test = model_lstm.evaluate(testing_features_reshaped, testing_y_reshaped)\n",
    "        \n",
    "        train_rmse_lstm[model, i] = np.sqrt(float(hist['mse'].tail(1)))\n",
    "        train_mae_lstm[model, i] = hist['mae'].tail(1)\n",
    "        \n",
    "        val_rmse_lstm[model, i] = np.sqrt(float(hist['val_mse'].tail(1)))\n",
    "        val_mae_lstm[model, i] = hist['val_mae'].tail(1)\n",
    "        \n",
    "        test_rmse_lstm[model, i] = np.sqrt(mse_test)\n",
    "        test_mae_lstm[model, i] = mae_test"
   ]
  },
  {
   "cell_type": "code",
   "execution_count": 722,
   "metadata": {},
   "outputs": [
    {
     "name": "stdout",
     "output_type": "stream",
     "text": [
      "3103/3103 [==============================] - 0s 24us/sample - loss: 2.1829 - mse: 7.7276 - mae: 2.6804\n"
     ]
    },
    {
     "data": {
      "text/plain": [
       "[2.182889547649215, 7.7275944, 2.680415]"
      ]
     },
     "execution_count": 722,
     "metadata": {},
     "output_type": "execute_result"
    }
   ],
   "source": [
    "model_lstm.evaluate(testing_features_reshaped, testing_y_reshaped)"
   ]
  },
  {
   "cell_type": "code",
   "execution_count": null,
   "metadata": {},
   "outputs": [],
   "source": []
  },
  {
   "cell_type": "markdown",
   "metadata": {},
   "source": [
    "## 7. Training STXGB for one-week (7-day) prediction horizon"
   ]
  },
  {
   "cell_type": "code",
   "execution_count": 48,
   "metadata": {},
   "outputs": [],
   "source": [
    "import xgboost"
   ]
  },
  {
   "cell_type": "code",
   "execution_count": 49,
   "metadata": {},
   "outputs": [],
   "source": [
    "counties_xgb = counties_shp.copy()"
   ]
  },
  {
   "cell_type": "code",
   "execution_count": 50,
   "metadata": {},
   "outputs": [
    {
     "name": "stdout",
     "output_type": "stream",
     "text": [
      "Model base in time step 0 done!\n",
      "Model safegraph in time step 0 done!\n",
      "Model facebook in time step 0 done!\n",
      "Model safegraph_full in time step 0 done!\n",
      "Model base in time step 1 done!\n",
      "Model safegraph in time step 1 done!\n",
      "Model facebook in time step 1 done!\n",
      "Model safegraph_full in time step 1 done!\n",
      "Model base in time step 2 done!\n",
      "Model safegraph in time step 2 done!\n",
      "Model facebook in time step 2 done!\n",
      "Model safegraph_full in time step 2 done!\n",
      "Model base in time step 3 done!\n",
      "Model safegraph in time step 3 done!\n",
      "Model facebook in time step 3 done!\n",
      "Model safegraph_full in time step 3 done!\n",
      "Model base in time step 4 done!\n",
      "Model safegraph in time step 4 done!\n",
      "Model facebook in time step 4 done!\n",
      "Model safegraph_full in time step 4 done!\n"
     ]
    }
   ],
   "source": [
    "train_r2_xgb = dict()\n",
    "train_rmse_xgb = dict()\n",
    "train_mae_xgb = dict()\n",
    "test_rmse_xgb = dict()\n",
    "test_mae_xgb = dict()\n",
    "tuned_params_xgb = dict()\n",
    "\n",
    "\n",
    "\n",
    "models=['base', 'safegraph', 'facebook', 'safegraph_full']\n",
    "features = [base_features, safegraph_features, facebook_features, safegraph_full_features]\n",
    "\n",
    "\n",
    "xgb_params = dict(learning_rate=np.arange(0.05,0.3,0.05), \n",
    "                     n_estimators=np.arange(100,1000,100), \n",
    "                     gamma = np.arange(1,10,1),\n",
    "                     subsample = np.arange(0.1,0.5,0.05),\n",
    "                     max_depth=[int(i) for i in np.arange(1,10,1)]) \n",
    "\n",
    "\n",
    "\n",
    "for i in range(time_steps):\n",
    "    \n",
    "    training_df = covid_df.iloc[:(i+training_size)*num_counties,:]\n",
    "    testing_df = covid_df.iloc[(i+training_size)*num_counties:(i+training_size+testing_size)*num_counties,:]\n",
    "    testing_df = testing_df.merge(counties_xgb[['GEOID','POPULATION']], how='left', on='GEOID')\n",
    "    \n",
    "    for model,feature in zip(models, features):\n",
    "    \n",
    "        X_train = training_df[feature]\n",
    "        y_train = training_df['LOG_DELTA_INC_RATE_T']\n",
    "        X_test = testing_df[feature]\n",
    "        y_test = testing_df['LOG_DELTA_INC_RATE_T'] \n",
    "\n",
    "        #scaling X\n",
    "        scaler = StandardScaler()\n",
    "        X_train = scaler.fit_transform(X_train)\n",
    "        X_test = scaler.transform(X_test)\n",
    "\n",
    "\n",
    "        #inititalization\n",
    "        xgb_model = xgboost.XGBRegressor(booster='gbtree', seed=42, verbosity=0) \n",
    "        \n",
    "        #cross validation\n",
    "        xgb_cv = RandomizedSearchCV(xgb_model, xgb_params, random_state=21, \n",
    "                                    scoring='neg_root_mean_squared_error', n_jobs=-1)\n",
    "        xgb_optimized = xgb_cv.fit(X_train, y_train)\n",
    "        best_xgb = xgb_optimized.best_estimator_\n",
    "        tuned_params_xgb[model, i] = xgb_optimized.best_params_\n",
    "\n",
    "        # model evaluation for training set\n",
    "        r2_train_xgb = round(best_xgb.score(X_train, y_train),2)\n",
    "        train_r2_xgb[model, i] = r2_train_xgb\n",
    "\n",
    "        y_train_predicted_xgb = best_xgb.predict(X_train)\n",
    "        rmse_train_xgb = (np.sqrt(mean_squared_error(y_train, y_train_predicted_xgb)))\n",
    "        train_rmse_xgb[model, i] = rmse_train_xgb\n",
    "        train_mae_xgb[model, i] =  mean_absolute_error(y_train, y_train_predicted_xgb)\n",
    "\n",
    "        # model evaluation for test set\n",
    "        y_test_predicted_xgb = best_xgb.predict(X_test)\n",
    "        rmse_test_xgb = (np.sqrt(mean_squared_error(y_test, y_test_predicted_xgb)))\n",
    "        test_rmse_xgb[model, i] = rmse_test_xgb\n",
    "        test_mae_xgb[model, i] = mean_absolute_error(y_test, y_test_predicted_xgb)\n",
    "        \n",
    "        #feature importance\n",
    "        \n",
    "        xgb_importance = pd.concat([pd.DataFrame(feature, columns={'variable'}),\n",
    "                                    pd.DataFrame(np.transpose(best_xgb.feature_importances_), columns={'Importance'})],\n",
    "                                   axis = 1) \n",
    "        xgb_importance.sort_values(by='Importance', ascending=False, inplace=True)\n",
    "        xgb_importance.to_csv('./output/XGB_importance_' + model + '_' + str(i) + '.csv')\n",
    "        \n",
    "        # # add labels and predictions to a county data frame\n",
    "        col_suffix = model +'_' + str(i)\n",
    "        \n",
    "        testing_df.loc[:,'y_test_'+ col_suffix] = y_test\n",
    "        testing_df.loc[:,'y_predicted_'+ col_suffix] = y_test_predicted_xgb\n",
    "        \n",
    "        testing_df['delta_inc_test_'+ col_suffix] = np.exp(testing_df['y_test_'+ col_suffix]) - 1\n",
    "        testing_df['delta_inc_pred_'+ col_suffix] = np.exp(testing_df['y_predicted_'+ col_suffix]) - 1\n",
    "        \n",
    "        testing_df['delta_case_test_'+ col_suffix] = (testing_df['delta_inc_test_'+ col_suffix] * testing_df['POPULATION']) / 10000\n",
    "        testing_df['delta_case_pred_'+ col_suffix] = (testing_df['delta_inc_pred_'+ col_suffix] * testing_df['POPULATION']) / 10000\n",
    "        \n",
    "        testing_df['error_y_'+ col_suffix] = testing_df['y_test_'+ col_suffix] - testing_df['y_predicted_'+ col_suffix]\n",
    "        testing_df['error_delta_inc_'+ col_suffix] = testing_df['delta_inc_test_'+ col_suffix] - testing_df['delta_inc_pred_'+ col_suffix]\n",
    "        testing_df['error_delta_case_'+ col_suffix] = testing_df['delta_case_test_'+ col_suffix] - testing_df['delta_case_pred_'+ col_suffix]\n",
    "        \n",
    "        test_cols = ['GEOID',  \n",
    "                      'y_test_'+ col_suffix, 'y_predicted_'+ col_suffix, \n",
    "                      'delta_inc_test_'+ col_suffix,  'delta_inc_pred_'+ col_suffix,\n",
    "                      'delta_case_test_'+ col_suffix, 'delta_case_pred_'+ col_suffix,\n",
    "                      'error_y_'+ col_suffix, 'error_delta_inc_'+ col_suffix, 'error_delta_case_'+ col_suffix]\n",
    "        \n",
    "        \n",
    "        counties_xgb = counties_xgb.merge(testing_df[test_cols], how='left', on='GEOID')\n",
    "        \n",
    "        print('Model {} in time step {} done!'.format(model, i))"
   ]
  },
  {
   "cell_type": "markdown",
   "metadata": {},
   "source": [
    "### Saving XGB and SGB error for paper"
   ]
  },
  {
   "cell_type": "code",
   "execution_count": 316,
   "metadata": {},
   "outputs": [],
   "source": [
    "index = pd.MultiIndex.from_tuples(test_rmse_xgb.keys(), names=[\"model\", \"time step\"])\n",
    "\n",
    "df_error_y_xgb = pd.DataFrame(list(zip(train_r2_xgb.values(), train_rmse_xgb.values(), train_mae_xgb.values(), test_rmse_xgb.values(), test_mae_xgb.values())) ,\n",
    "                                  index=index, columns=['R2 train','RMSE train', 'MAE train', 'RMSE test', 'MAE test'])\n",
    "df_error_y_xgb.sort_index().to_csv('./output/error_y_xgb1.csv')"
   ]
  },
  {
   "cell_type": "code",
   "execution_count": 317,
   "metadata": {},
   "outputs": [],
   "source": [
    "index = pd.MultiIndex.from_tuples(train_rmse.keys(), names=[\"model\", \"time step\"])\n",
    "\n",
    "df_error_y_sgb = pd.DataFrame(list(zip(train_r2.values(),train_rmse.values(), train_mae.values(), test_rmse.values(), test_mae.values())) ,\n",
    "                                   index=index, columns=['R2 train','RMSE train', 'MAE train', 'RMSE test', 'MAE test'])\n",
    "df_error_y_sgb.sort_index().to_csv('./output/error_y_sgb1.csv')"
   ]
  },
  {
   "cell_type": "code",
   "execution_count": null,
   "metadata": {},
   "outputs": [],
   "source": []
  },
  {
   "cell_type": "markdown",
   "metadata": {},
   "source": [
    "### Loding the lagged data frame (used for long-term prediction horizons)\n",
    "\n",
    "In this dataframe, 1,2,3, and 4 week case changes are saved as separate columns. Each column will be used as y_test in the respective xgboost model"
   ]
  },
  {
   "cell_type": "code",
   "execution_count": 48,
   "metadata": {},
   "outputs": [],
   "source": [
    "covid_df_lagged_y = pd.read_csv(input_directory + 'combined_df_lagged_y.csv', index_col=0, dtype={'GEOID':str})"
   ]
  },
  {
   "cell_type": "markdown",
   "metadata": {},
   "source": [
    "**Preprocessing**\n",
    "\n",
    "Imitating preprocessing stesp that had been performed on the main dataset (covid_df)"
   ]
  },
  {
   "cell_type": "code",
   "execution_count": 63,
   "metadata": {},
   "outputs": [],
   "source": [
    "covid_df_lagged_y.sort_values(inplace=True, by=[\"date_start_period\", \"GEOID\"])"
   ]
  },
  {
   "cell_type": "code",
   "execution_count": 64,
   "metadata": {},
   "outputs": [],
   "source": [
    "covid_df_lagged_y = covid_df_lagged_y.replace([np.inf, -np.inf], np.NaN)\n",
    "\n",
    "na_cols = covid_df_lagged_y.columns[covid_df_lagged_y.isna().any()].tolist()"
   ]
  },
  {
   "cell_type": "code",
   "execution_count": 65,
   "metadata": {},
   "outputs": [
    {
     "data": {
      "text/plain": [
       "0"
      ]
     },
     "execution_count": 65,
     "metadata": {},
     "output_type": "execute_result"
    }
   ],
   "source": [
    "for col in na_cols:\n",
    "    covid_df_lagged_y[col] = covid_df_lagged_y.groupby(['date_start_period','STATEFP'])[col].transform(lambda x: x.fillna(x.mean()))\n",
    "\n",
    "covid_df_lagged_y.isna().sum().sum()"
   ]
  },
  {
   "cell_type": "markdown",
   "metadata": {},
   "source": [
    "## 7.1. Training STXGB for two-week (14-day) prediction horizon"
   ]
  },
  {
   "cell_type": "code",
   "execution_count": 102,
   "metadata": {},
   "outputs": [],
   "source": [
    "counties_xgb_14 = counties_shp.copy()"
   ]
  },
  {
   "cell_type": "code",
   "execution_count": 103,
   "metadata": {},
   "outputs": [
    {
     "name": "stdout",
     "output_type": "stream",
     "text": [
      "Model base in time step 0 done!\n",
      "Model safegraph in time step 0 done!\n",
      "Model facebook in time step 0 done!\n",
      "Model safegraph_full in time step 0 done!\n",
      "Model base in time step 1 done!\n",
      "Model safegraph in time step 1 done!\n",
      "Model facebook in time step 1 done!\n",
      "Model safegraph_full in time step 1 done!\n",
      "Model base in time step 2 done!\n",
      "Model safegraph in time step 2 done!\n",
      "Model facebook in time step 2 done!\n",
      "Model safegraph_full in time step 2 done!\n",
      "Model base in time step 3 done!\n",
      "Model safegraph in time step 3 done!\n",
      "Model facebook in time step 3 done!\n",
      "Model safegraph_full in time step 3 done!\n",
      "Model base in time step 4 done!\n",
      "Model safegraph in time step 4 done!\n",
      "Model facebook in time step 4 done!\n",
      "Model safegraph_full in time step 4 done!\n"
     ]
    }
   ],
   "source": [
    "train_r2_xgb_14 = dict()\n",
    "train_rmse_xgb_14 = dict()\n",
    "train_mae_xgb_14 = dict()\n",
    "test_rmse_xgb_14 = dict()\n",
    "test_mae_xgb_14 = dict()\n",
    "tuned_params_xgb_14 = dict()\n",
    "\n",
    "\n",
    "\n",
    "models=['base', 'safegraph', 'facebook', 'safegraph_full']\n",
    "features = [base_features, safegraph_features, facebook_features, safegraph_full_features]\n",
    "\n",
    "\n",
    "xgb_params = dict(learning_rate=np.arange(0.05,0.3,0.05), \n",
    "                     n_estimators=np.arange(100,1000,100), \n",
    "                     gamma = np.arange(1,10,1),\n",
    "                     subsample = np.arange(0.1,0.5,0.05),\n",
    "                     max_depth=[int(i) for i in np.arange(1,10,1)]) \n",
    "\n",
    "\n",
    "\n",
    "for i in range(time_steps):\n",
    "    \n",
    "    training_df = covid_df_lagged_y.iloc[:(i+training_size)*num_counties,:]\n",
    "    testing_df = covid_df_lagged_y.iloc[(i+training_size)*num_counties:(i+training_size+testing_size)*num_counties,:]\n",
    "    \n",
    "    for model,feature in zip(models, features):\n",
    "    \n",
    "        X_train = training_df[feature]\n",
    "        y_train = training_df['LOG_DELTA_INC_RATE_T_14']\n",
    "        X_test = testing_df[feature]\n",
    "        y_test = testing_df['LOG_DELTA_INC_RATE_T_14'] \n",
    "\n",
    "        #scaling X\n",
    "        scaler = StandardScaler()\n",
    "        X_train = scaler.fit_transform(X_train)\n",
    "        X_test = scaler.transform(X_test)\n",
    "\n",
    "\n",
    "        #inititalization\n",
    "        xgb_model = xgboost.XGBRegressor(booster='gbtree', seed=42, verbosity=0) \n",
    "        \n",
    "        #cross validation\n",
    "        xgb_cv = RandomizedSearchCV(xgb_model, xgb_params, random_state=21, \n",
    "                                    scoring='neg_root_mean_squared_error', n_jobs=-1)\n",
    "        xgb_optimized = xgb_cv.fit(X_train, y_train)\n",
    "        best_xgb = xgb_optimized.best_estimator_\n",
    "        tuned_params_xgb_14[model, i] = xgb_optimized.best_params_\n",
    "\n",
    "        # model evaluation for training set\n",
    "        r2_train_xgb = round(best_xgb.score(X_train, y_train),2)\n",
    "        train_r2_xgb_14[model, i] = r2_train_xgb\n",
    "\n",
    "        y_train_predicted_xgb = best_xgb.predict(X_train)\n",
    "        rmse_train_xgb = (np.sqrt(mean_squared_error(y_train, y_train_predicted_xgb)))\n",
    "        train_rmse_xgb_14[model, i] = rmse_train_xgb\n",
    "        train_mae_xgb_14[model, i] =  mean_absolute_error(y_train, y_train_predicted_xgb)\n",
    "\n",
    "        # model evaluation for test set\n",
    "        y_test_predicted_xgb = best_xgb.predict(X_test)\n",
    "        rmse_test_xgb = (np.sqrt(mean_squared_error(y_test, y_test_predicted_xgb)))\n",
    "        test_rmse_xgb_14[model, i] = rmse_test_xgb\n",
    "        test_mae_xgb_14[model, i] = mean_absolute_error(y_test, y_test_predicted_xgb)\n",
    "        \n",
    "        #feature importance\n",
    "        \n",
    "        xgb_importance = pd.concat([pd.DataFrame(feature, columns={'variable'}),\n",
    "                                    pd.DataFrame(np.transpose(best_xgb.feature_importances_), columns={'Importance'})],\n",
    "                                   axis = 1) \n",
    "        xgb_importance.sort_values(by='Importance', ascending=False, inplace=True)\n",
    "        xgb_importance.to_csv('./output/XGB_importance_14_' + model + '_' + str(i) + '.csv')\n",
    "        \n",
    "        # # add labels and predictions to a county data frame\n",
    "        col_suffix = model +'_' + str(i)\n",
    "        \n",
    "        testing_df.loc[:,'y_test_'+ col_suffix] = y_test\n",
    "        testing_df.loc[:,'y_predicted_'+ col_suffix] = y_test_predicted_xgb\n",
    "        \n",
    "        testing_df['delta_inc_test_'+ col_suffix] = np.exp(testing_df['y_test_'+ col_suffix]) - 1\n",
    "        testing_df['delta_inc_pred_'+ col_suffix] = np.exp(testing_df['y_predicted_'+ col_suffix]) - 1\n",
    "        \n",
    "        testing_df['delta_case_test_'+ col_suffix] = (testing_df['delta_inc_test_'+ col_suffix] * testing_df['POPULATION']) / 10000\n",
    "        testing_df['delta_case_pred_'+ col_suffix] = (testing_df['delta_inc_pred_'+ col_suffix] * testing_df['POPULATION']) / 10000\n",
    "        \n",
    "        testing_df['error_y_'+ col_suffix] = testing_df['y_test_'+ col_suffix] - testing_df['y_predicted_'+ col_suffix]\n",
    "        testing_df['error_delta_inc_'+ col_suffix] = testing_df['delta_inc_test_'+ col_suffix] - testing_df['delta_inc_pred_'+ col_suffix]\n",
    "        testing_df['error_delta_case_'+ col_suffix] = testing_df['delta_case_test_'+ col_suffix] - testing_df['delta_case_pred_'+ col_suffix]\n",
    "        \n",
    "        test_cols = ['GEOID',  \n",
    "                      'y_test_'+ col_suffix, 'y_predicted_'+ col_suffix, \n",
    "                      'delta_inc_test_'+ col_suffix,  'delta_inc_pred_'+ col_suffix,\n",
    "                      'delta_case_test_'+ col_suffix, 'delta_case_pred_'+ col_suffix,\n",
    "                      'error_y_'+ col_suffix, 'error_delta_inc_'+ col_suffix, 'error_delta_case_'+ col_suffix]\n",
    "        \n",
    "        \n",
    "        counties_xgb_14 = counties_xgb_14.merge(testing_df[test_cols], how='left', on='GEOID')\n",
    "        \n",
    "        print('Model {} in time step {} done!'.format(model, i))"
   ]
  },
  {
   "cell_type": "markdown",
   "metadata": {},
   "source": [
    "## 7.2. Training STXGB for three-week (21-day) prediction horizon"
   ]
  },
  {
   "cell_type": "code",
   "execution_count": 67,
   "metadata": {},
   "outputs": [],
   "source": [
    "counties_xgb_21 = counties_shp.copy()"
   ]
  },
  {
   "cell_type": "code",
   "execution_count": 68,
   "metadata": {},
   "outputs": [
    {
     "name": "stdout",
     "output_type": "stream",
     "text": [
      "Model base in time step 0 done!\n",
      "Model safegraph in time step 0 done!\n",
      "Model facebook in time step 0 done!\n",
      "Model safegraph_full in time step 0 done!\n",
      "Model base in time step 1 done!\n",
      "Model safegraph in time step 1 done!\n",
      "Model facebook in time step 1 done!\n",
      "Model safegraph_full in time step 1 done!\n",
      "Model base in time step 2 done!\n",
      "Model safegraph in time step 2 done!\n",
      "Model facebook in time step 2 done!\n",
      "Model safegraph_full in time step 2 done!\n",
      "Model base in time step 3 done!\n",
      "Model safegraph in time step 3 done!\n",
      "Model facebook in time step 3 done!\n",
      "Model safegraph_full in time step 3 done!\n",
      "Model base in time step 4 done!\n",
      "Model safegraph in time step 4 done!\n",
      "Model facebook in time step 4 done!\n",
      "Model safegraph_full in time step 4 done!\n"
     ]
    }
   ],
   "source": [
    "train_r2_xgb_21 = dict()\n",
    "train_rmse_xgb_21 = dict()\n",
    "train_mae_xgb_21 = dict()\n",
    "test_rmse_xgb_21 = dict()\n",
    "test_mae_xgb_21 = dict()\n",
    "tuned_params_xgb_21 = dict()\n",
    "\n",
    "\n",
    "\n",
    "models=['base', 'safegraph', 'facebook', 'safegraph_full']\n",
    "features = [base_features, safegraph_features, facebook_features, safegraph_full_features]\n",
    "\n",
    "\n",
    "xgb_params = dict(learning_rate=np.arange(0.05,0.3,0.05), \n",
    "                     n_estimators=np.arange(100,1000,100), \n",
    "                     gamma = np.arange(1,10,1),\n",
    "                     subsample = np.arange(0.1,0.5,0.05),\n",
    "                     max_depth=[int(i) for i in np.arange(1,10,1)]) \n",
    "\n",
    "\n",
    "\n",
    "for i in range(time_steps):\n",
    "    \n",
    "    training_df = covid_df_lagged_y.iloc[:(i+training_size)*num_counties,:]\n",
    "    testing_df = covid_df_lagged_y.iloc[(i+training_size)*num_counties:(i+training_size+testing_size)*num_counties,:]\n",
    "    #testing_df = testing_df.merge(counties_xgb_21[['GEOID','POPULATION']], how='left', on='GEOID')\n",
    "    \n",
    "    for model,feature in zip(models, features):\n",
    "    \n",
    "        X_train = training_df[feature]\n",
    "        y_train = training_df['LOG_DELTA_INC_RATE_T_21']\n",
    "        X_test = testing_df[feature]\n",
    "        y_test = testing_df['LOG_DELTA_INC_RATE_T_21'] \n",
    "\n",
    "        #scaling X\n",
    "        scaler = StandardScaler()\n",
    "        X_train = scaler.fit_transform(X_train)\n",
    "        X_test = scaler.transform(X_test)\n",
    "\n",
    "\n",
    "        #inititalization\n",
    "        xgb_model = xgboost.XGBRegressor(booster='gbtree', seed=42, verbosity=0) \n",
    "        \n",
    "        #cross validation\n",
    "        xgb_cv = RandomizedSearchCV(xgb_model, xgb_params, random_state=21, \n",
    "                                    scoring='neg_root_mean_squared_error', n_jobs=-1)\n",
    "        xgb_optimized = xgb_cv.fit(X_train, y_train)\n",
    "        best_xgb = xgb_optimized.best_estimator_\n",
    "        tuned_params_xgb_21[model, i] = xgb_optimized.best_params_\n",
    "\n",
    "        # model evaluation for training set\n",
    "        r2_train_xgb = round(best_xgb.score(X_train, y_train),2)\n",
    "        train_r2_xgb_21[model, i] = r2_train_xgb\n",
    "\n",
    "        y_train_predicted_xgb = best_xgb.predict(X_train)\n",
    "        rmse_train_xgb = (np.sqrt(mean_squared_error(y_train, y_train_predicted_xgb)))\n",
    "        train_rmse_xgb_21[model, i] = rmse_train_xgb\n",
    "        train_mae_xgb_21[model, i] =  mean_absolute_error(y_train, y_train_predicted_xgb)\n",
    "\n",
    "        # model evaluation for test set\n",
    "        y_test_predicted_xgb = best_xgb.predict(X_test)\n",
    "        rmse_test_xgb = (np.sqrt(mean_squared_error(y_test, y_test_predicted_xgb)))\n",
    "        test_rmse_xgb_21[model, i] = rmse_test_xgb\n",
    "        test_mae_xgb_21[model, i] = mean_absolute_error(y_test, y_test_predicted_xgb)\n",
    "        \n",
    "        #feature importance\n",
    "        \n",
    "        xgb_importance = pd.concat([pd.DataFrame(feature, columns={'variable'}),\n",
    "                                    pd.DataFrame(np.transpose(best_xgb.feature_importances_), columns={'Importance'})],\n",
    "                                   axis = 1) \n",
    "        xgb_importance.sort_values(by='Importance', ascending=False, inplace=True)\n",
    "        xgb_importance.to_csv('./output/XGB_importance_21_' + model + '_' + str(i) + '.csv')\n",
    "        \n",
    "        # # add labels and predictions to a county data frame\n",
    "        col_suffix = model +'_' + str(i)\n",
    "        \n",
    "        testing_df.loc[:,'y_test_'+ col_suffix] = y_test\n",
    "        testing_df.loc[:,'y_predicted_'+ col_suffix] = y_test_predicted_xgb\n",
    "        \n",
    "        testing_df['delta_inc_test_'+ col_suffix] = np.exp(testing_df['y_test_'+ col_suffix]) - 1\n",
    "        testing_df['delta_inc_pred_'+ col_suffix] = np.exp(testing_df['y_predicted_'+ col_suffix]) - 1\n",
    "        \n",
    "        testing_df['delta_case_test_'+ col_suffix] = (testing_df['delta_inc_test_'+ col_suffix] * testing_df['POPULATION']) / 10000\n",
    "        testing_df['delta_case_pred_'+ col_suffix] = (testing_df['delta_inc_pred_'+ col_suffix] * testing_df['POPULATION']) / 10000\n",
    "        \n",
    "        testing_df['error_y_'+ col_suffix] = testing_df['y_test_'+ col_suffix] - testing_df['y_predicted_'+ col_suffix]\n",
    "        testing_df['error_delta_inc_'+ col_suffix] = testing_df['delta_inc_test_'+ col_suffix] - testing_df['delta_inc_pred_'+ col_suffix]\n",
    "        testing_df['error_delta_case_'+ col_suffix] = testing_df['delta_case_test_'+ col_suffix] - testing_df['delta_case_pred_'+ col_suffix]\n",
    "        \n",
    "        test_cols = ['GEOID',  \n",
    "                      'y_test_'+ col_suffix, 'y_predicted_'+ col_suffix, \n",
    "                      'delta_inc_test_'+ col_suffix,  'delta_inc_pred_'+ col_suffix,\n",
    "                      'delta_case_test_'+ col_suffix, 'delta_case_pred_'+ col_suffix,\n",
    "                      'error_y_'+ col_suffix, 'error_delta_inc_'+ col_suffix, 'error_delta_case_'+ col_suffix]\n",
    "        \n",
    "        \n",
    "        counties_xgb_21 = counties_xgb_21.merge(testing_df[test_cols], how='left', on='GEOID')\n",
    "        \n",
    "        print('Model {} in time step {} done!'.format(model, i))\n"
   ]
  },
  {
   "cell_type": "markdown",
   "metadata": {},
   "source": [
    "## 7.3. Training STXGB for four-week (28-day) prediction horizon"
   ]
  },
  {
   "cell_type": "code",
   "execution_count": 69,
   "metadata": {},
   "outputs": [],
   "source": [
    "counties_xgb_28 = counties_shp.copy()"
   ]
  },
  {
   "cell_type": "code",
   "execution_count": 70,
   "metadata": {},
   "outputs": [
    {
     "name": "stdout",
     "output_type": "stream",
     "text": [
      "Model base in time step 0 done!\n",
      "Model safegraph in time step 0 done!\n",
      "Model facebook in time step 0 done!\n",
      "Model safegraph_full in time step 0 done!\n",
      "Model base in time step 1 done!\n",
      "Model safegraph in time step 1 done!\n",
      "Model facebook in time step 1 done!\n",
      "Model safegraph_full in time step 1 done!\n",
      "Model base in time step 2 done!\n",
      "Model safegraph in time step 2 done!\n",
      "Model facebook in time step 2 done!\n",
      "Model safegraph_full in time step 2 done!\n",
      "Model base in time step 3 done!\n",
      "Model safegraph in time step 3 done!\n",
      "Model facebook in time step 3 done!\n",
      "Model safegraph_full in time step 3 done!\n",
      "Model base in time step 4 done!\n",
      "Model safegraph in time step 4 done!\n",
      "Model facebook in time step 4 done!\n",
      "Model safegraph_full in time step 4 done!\n"
     ]
    }
   ],
   "source": [
    "train_r2_xgb_28 = dict()\n",
    "train_rmse_xgb_28 = dict()\n",
    "train_mae_xgb_28 = dict()\n",
    "test_rmse_xgb_28 = dict()\n",
    "test_mae_xgb_28 = dict()\n",
    "tuned_params_xgb_28 = dict()\n",
    "\n",
    "\n",
    "\n",
    "models=['base', 'safegraph', 'facebook', 'safegraph_full']\n",
    "features = [base_features, safegraph_features, facebook_features, safegraph_full_features]\n",
    "\n",
    "\n",
    "xgb_params = dict(learning_rate=np.arange(0.05,0.3,0.05), \n",
    "                     n_estimators=np.arange(100,1000,100), \n",
    "                     gamma = np.arange(1,10,1),\n",
    "                     subsample = np.arange(0.1,0.5,0.05),\n",
    "                     max_depth=[int(i) for i in np.arange(1,10,1)]) \n",
    "\n",
    "\n",
    "\n",
    "for i in range(time_steps):\n",
    "    \n",
    "    training_df = covid_df_lagged_y.iloc[:(i+training_size)*num_counties,:]\n",
    "    testing_df = covid_df_lagged_y.iloc[(i+training_size)*num_counties:(i+training_size+testing_size)*num_counties,:]\n",
    "\n",
    "    \n",
    "    for model,feature in zip(models, features):\n",
    "    \n",
    "        X_train = training_df[feature]\n",
    "        y_train = training_df['LOG_DELTA_INC_RATE_T_28']\n",
    "        X_test = testing_df[feature]\n",
    "        y_test = testing_df['LOG_DELTA_INC_RATE_T_28'] \n",
    "\n",
    "        #scaling X\n",
    "        scaler = StandardScaler()\n",
    "        X_train = scaler.fit_transform(X_train)\n",
    "        X_test = scaler.transform(X_test)\n",
    "\n",
    "\n",
    "        #inititalization\n",
    "        xgb_model = xgboost.XGBRegressor(booster='gbtree', seed=42, verbosity=0) \n",
    "        \n",
    "        #cross validation\n",
    "        xgb_cv = RandomizedSearchCV(xgb_model, xgb_params, random_state=28, \n",
    "                                    scoring='neg_root_mean_squared_error', n_jobs=-1)\n",
    "        xgb_optimized = xgb_cv.fit(X_train, y_train)\n",
    "        best_xgb = xgb_optimized.best_estimator_\n",
    "        tuned_params_xgb_28[model, i] = xgb_optimized.best_params_\n",
    "\n",
    "        # model evaluation for training set\n",
    "        r2_train_xgb = round(best_xgb.score(X_train, y_train),2)\n",
    "        train_r2_xgb_28[model, i] = r2_train_xgb\n",
    "\n",
    "        y_train_predicted_xgb = best_xgb.predict(X_train)\n",
    "        rmse_train_xgb = (np.sqrt(mean_squared_error(y_train, y_train_predicted_xgb)))\n",
    "        train_rmse_xgb_28[model, i] = rmse_train_xgb\n",
    "        train_mae_xgb_28[model, i] =  mean_absolute_error(y_train, y_train_predicted_xgb)\n",
    "\n",
    "        # model evaluation for test set\n",
    "        y_test_predicted_xgb = best_xgb.predict(X_test)\n",
    "        rmse_test_xgb = (np.sqrt(mean_squared_error(y_test, y_test_predicted_xgb)))\n",
    "        test_rmse_xgb_28[model, i] = rmse_test_xgb\n",
    "        test_mae_xgb_28[model, i] = mean_absolute_error(y_test, y_test_predicted_xgb)\n",
    "        \n",
    "        #feature importance\n",
    "        \n",
    "        xgb_importance = pd.concat([pd.DataFrame(feature, columns={'variable'}),\n",
    "                                    pd.DataFrame(np.transpose(best_xgb.feature_importances_), columns={'Importance'})],\n",
    "                                   axis = 1) \n",
    "        xgb_importance.sort_values(by='Importance', ascending=False, inplace=True)\n",
    "        xgb_importance.to_csv('./output/XGB_importance_28_' + model + '_' + str(i) + '.csv')\n",
    "        \n",
    "        # # add labels and predictions to a county data frame\n",
    "        col_suffix = model +'_' + str(i)\n",
    "        \n",
    "        testing_df.loc[:,'y_test_'+ col_suffix] = y_test\n",
    "        testing_df.loc[:,'y_predicted_'+ col_suffix] = y_test_predicted_xgb\n",
    "        \n",
    "        testing_df['delta_inc_test_'+ col_suffix] = np.exp(testing_df['y_test_'+ col_suffix]) - 1\n",
    "        testing_df['delta_inc_pred_'+ col_suffix] = np.exp(testing_df['y_predicted_'+ col_suffix]) - 1\n",
    "        \n",
    "        testing_df['delta_case_test_'+ col_suffix] = (testing_df['delta_inc_test_'+ col_suffix] * testing_df['POPULATION']) / 10000\n",
    "        testing_df['delta_case_pred_'+ col_suffix] = (testing_df['delta_inc_pred_'+ col_suffix] * testing_df['POPULATION']) / 10000\n",
    "        \n",
    "        testing_df['error_y_'+ col_suffix] = testing_df['y_test_'+ col_suffix] - testing_df['y_predicted_'+ col_suffix]\n",
    "        testing_df['error_delta_inc_'+ col_suffix] = testing_df['delta_inc_test_'+ col_suffix] - testing_df['delta_inc_pred_'+ col_suffix]\n",
    "        testing_df['error_delta_case_'+ col_suffix] = testing_df['delta_case_test_'+ col_suffix] - testing_df['delta_case_pred_'+ col_suffix]\n",
    "        \n",
    "        test_cols = ['GEOID',  \n",
    "                      'y_test_'+ col_suffix, 'y_predicted_'+ col_suffix, \n",
    "                      'delta_inc_test_'+ col_suffix,  'delta_inc_pred_'+ col_suffix,\n",
    "                      'delta_case_test_'+ col_suffix, 'delta_case_pred_'+ col_suffix,\n",
    "                      'error_y_'+ col_suffix, 'error_delta_inc_'+ col_suffix, 'error_delta_case_'+ col_suffix]\n",
    "        \n",
    "        \n",
    "        counties_xgb_28 = counties_xgb_28.merge(testing_df[test_cols], how='left', on='GEOID')\n",
    "        \n",
    "        print('Model {} in time step {} done!'.format(model, i))\n"
   ]
  },
  {
   "cell_type": "markdown",
   "metadata": {},
   "source": [
    "### Saveing STXGB errors as GeoJSON Files"
   ]
  },
  {
   "cell_type": "code",
   "execution_count": 84,
   "metadata": {},
   "outputs": [],
   "source": [
    "iterables = [models, range(5)]\n",
    "index_temp = pd.MultiIndex.from_product(iterables, names=[\"model\", \"time step\"])"
   ]
  },
  {
   "cell_type": "code",
   "execution_count": 85,
   "metadata": {},
   "outputs": [],
   "source": [
    "tempcounty = gpd.read_file(input_directory + 'Conterminous_US_counties.geojson')\n",
    "added_cols = ['GEOID','PCT_RURAL', 'PCT_AMIND', 'PCT_BLACK', 'PCT_HISPAN']"
   ]
  },
  {
   "cell_type": "code",
   "execution_count": 87,
   "metadata": {},
   "outputs": [],
   "source": [
    "y_error = [col for col in counties_xgb.columns if 'error_y_' in col]"
   ]
  },
  {
   "cell_type": "code",
   "execution_count": 88,
   "metadata": {},
   "outputs": [],
   "source": [
    "delta_inc_error = [col for col in counties_xgb.columns if 'error_delta_inc' in col] "
   ]
  },
  {
   "cell_type": "code",
   "execution_count": 89,
   "metadata": {},
   "outputs": [],
   "source": [
    "delta_case_error = [col for col in counties_xgb.columns if 'error_delta_case_' in col] "
   ]
  },
  {
   "cell_type": "code",
   "execution_count": 90,
   "metadata": {},
   "outputs": [],
   "source": [
    "predicted_y = [col for col in counties_xgb.columns if 'y_predicted_' in col] "
   ]
  },
  {
   "cell_type": "code",
   "execution_count": 91,
   "metadata": {},
   "outputs": [],
   "source": [
    "test_y = [col for col in counties_xgb.columns if 'y_test_' in col] "
   ]
  },
  {
   "cell_type": "code",
   "execution_count": 322,
   "metadata": {},
   "outputs": [],
   "source": [
    "# creating error maps and csvs for mapping and plotting STXGB models\n",
    "\n",
    "\n",
    "xgb_error_shapefiles = [counties_xgb, counties_xgb_14, counties_xgb_21, counties_xgb_28]\n",
    "xgb_error_names = ['XGB_defalt', 'XGB_14', 'XGB_21', 'XGB_28']\n",
    "\n",
    "\n",
    "\n",
    "for error_shp, error_name in zip(xgb_error_shapefiles, xgb_error_names):\n",
    "    \n",
    "\n",
    "    xgb_errors = error_shp.merge(tempcounty[added_cols], how='left', on='GEOID')\n",
    "\n",
    "    xgb_errors['urbanicity'] = 'Majority urban'\n",
    "    xgb_errors.loc[xgb_errors['PCT_RURAL'] >= 50,'urbanicity'] = 'Majority rural'\n",
    "    xgb_errors['PCT_MINORITY'] = xgb_errors.PCT_BLACK + xgb_errors.PCT_AMIND + xgb_errors.PCT_HISPAN\n",
    "\n",
    "    models=['base', 'safegraph', 'facebook', 'safegraph_full']\n",
    "    for model in models:\n",
    "\n",
    "        model_cols = [col for col in y_error if model in col]\n",
    "        xgb_errors['error_y_' + model + '_avg'] = xgb_errors[model_cols].mean(axis=1)\n",
    "\n",
    "\n",
    "    for model in models:\n",
    "\n",
    "        model_cols = [col for col in delta_inc_error if model in col]\n",
    "        xgb_errors['error_delta_inc_' + model + '_avg'] = xgb_errors[model_cols].mean(axis=1)\n",
    "\n",
    "    for model in models:\n",
    "\n",
    "        model_cols = [col for col in delta_case_error if model in col]\n",
    "        xgb_errors['error_delta_case_' + model + '_avg'] = xgb_errors[model_cols].mean(axis=1)\n",
    "\n",
    "    xgb_errors.to_file('./output/error_map_' + error_name + '.geojson', driver='GeoJSON')\n",
    "    \n",
    "    #Save Maps\n",
    "    error_df_xgb = pd.DataFrame(index=index_temp, columns=['RMSE case', 'MAE case', 'RMSE inc', 'MAE inc'], dtype=float)\n",
    "\n",
    "\n",
    "    for model in models:\n",
    "        for i in range(5):\n",
    "            rmse_case = np.sqrt(mean_squared_error(xgb_errors['delta_case_test_' + model + '_' + str(i)],\n",
    "                                               xgb_errors['delta_case_pred_' + model + '_' + str(i)]))\n",
    "            rmse_inc = np.sqrt(mean_squared_error(xgb_errors['delta_inc_test_' + model + '_' + str(i)],\n",
    "                                               xgb_errors['delta_inc_pred_' + model + '_' + str(i)]))\n",
    "\n",
    "            mae_case = mean_absolute_error(xgb_errors['delta_case_test_' + model + '_' + str(i)],\n",
    "                                               xgb_errors['delta_case_pred_' + model + '_' + str(i)])\n",
    "            mae_inc = mean_absolute_error(xgb_errors['delta_inc_test_' + model + '_' + str(i)],\n",
    "                                               xgb_errors['delta_inc_pred_' + model + '_' + str(i)])\n",
    "\n",
    "            error_df_xgb.loc[model, i] = [rmse_case, mae_case, rmse_inc, mae_inc]\n",
    "            \n",
    "    error_df_xgb.to_csv('./output/error_' + error_name + '.csv')\n"
   ]
  },
  {
   "cell_type": "markdown",
   "metadata": {},
   "source": [
    "## 8. Errors Analysis"
   ]
  },
  {
   "cell_type": "code",
   "execution_count": 17,
   "metadata": {},
   "outputs": [],
   "source": [
    "# If the cell above is run, there is no need to run this cell\n",
    "# this cell reads error csvs for diffferent prediction horizons of the STXGB model\n",
    "\n",
    "# error_df_xgb_1wk = pd.read_csv(input_directory + 'error_XGB_defalt.csv')\n",
    "# error_df_xgb_2wk = pd.read_csv(input_directory + 'error_XGB_14.csv')\n",
    "# error_df_xgb_3wk = pd.read_csv(input_directory + 'error_XGB_21.csv')\n",
    "# error_df_xgb_4wk = pd.read_csv(input_directory + 'error_XGB_28.csv')"
   ]
  },
  {
   "cell_type": "code",
   "execution_count": 18,
   "metadata": {},
   "outputs": [],
   "source": [
    "# plotting parameters\n",
    "parameters = {'axes.labelsize': 20, # size of axis label (applys on both x and y)  \n",
    "             'legend.fontsize':17,\n",
    "             'xtick.labelsize': 17,\n",
    "             'ytick.labelsize': 17\n",
    "             } # size of legend\n",
    "plt.rcParams.update(parameters)"
   ]
  },
  {
   "cell_type": "code",
   "execution_count": 20,
   "metadata": {},
   "outputs": [
    {
     "data": {
      "image/png": "[encoded data removed]",
      "text/plain": [
       "<Figure size 1296x576 with 2 Axes>"
      ]
     },
     "metadata": {
      "needs_background": "light"
     },
     "output_type": "display_data"
    }
   ],
   "source": [
    "# Plotting 1 week ahead predictions using STXGB and based models\n",
    "# this is for comparing the performance of the 4 feature sets\n",
    "\n",
    "error_df_for_map = error_df_xgb_1wk.copy()\n",
    "error_df_for_map['time step'] = error_df_for_map['time step'].map({0:'2020-10-24',\n",
    "                                        1:'2020-10-31',\n",
    "                                        2:'2020-11-07',\n",
    "                                        3:'2020-11-14',\n",
    "                                        4:'2020-11-21'})\n",
    "error_df_for_map['time step'] = pd.to_datetime(error_df_for_map['time step'], infer_datetime_format=True)\n",
    "error_df_for_map.loc[(error_df_for_map.model == 'base'),'model']='Base'\n",
    "error_df_for_map.loc[(error_df_for_map.model == 'facebook'),'model']='STXGB-FB'\n",
    "error_df_for_map.loc[(error_df_for_map.model == 'safegraph'),'model']='STXGB-SG'\n",
    "error_df_for_map.loc[(error_df_for_map.model == 'safegraph_full'),'model']='STXGB-SGR'\n",
    "\n",
    "\n",
    "import matplotlib.dates as md\n",
    "\n",
    "\n",
    "fig, axes = plt.subplots(1,2, figsize=(18, 8))\n",
    "\n",
    "# in the line below, change 'inc' to 'case' for plotting case instead of case/10k population \n",
    "for col, ax in zip(error_df_for_map[['RMSE inc', 'MAE inc']].columns, axes.flatten()): \n",
    "    sns.lineplot(data=error_df_for_map, x='time step', y=col, hue='model', ax=ax)\n",
    "    ax.set_xlabel('Forecast Date')\n",
    "    ax.set_ylabel(col.split()[0])\n",
    "    ax.xaxis.set_major_locator(md.WeekdayLocator(byweekday = 5))\n",
    "    ax.xaxis.set_major_formatter(md.DateFormatter('%Y-%m-%d'))\n",
    "    if col=='RMSE case': ax.set_title('Prediction RMSE of weekly new confirmed cases', fontsize=20)\n",
    "    if col=='MAE case': ax.set_title('Prediction MAE of weekly new confirmed cases', fontsize=20)\n",
    "    if col=='RMSE inc': ax.set_title('Prediction RMSE of weekly new cases per 10k population', fontsize=20)\n",
    "    if col=='MAE inc': ax.set_title('Prediction MAE of weekly new cases per 10k population', fontsize=20)\n",
    "    \n",
    "    ax.legend(loc='upper left')\n",
    "    ax.grid(True)\n",
    "    \n",
    "plt.tight_layout()\n"
   ]
  },
  {
   "cell_type": "code",
   "execution_count": null,
   "metadata": {},
   "outputs": [],
   "source": []
  },
  {
   "cell_type": "code",
   "execution_count": null,
   "metadata": {},
   "outputs": [],
   "source": []
  },
  {
   "cell_type": "markdown",
   "metadata": {},
   "source": [
    "## 11. Comparison with Forecast Hub"
   ]
  },
  {
   "cell_type": "markdown",
   "metadata": {},
   "source": [
    "For comparing our results with the ensemble model, we compared the 1- to 4-week ahead predictions of the STXGB model with the ensemble model.\n",
    "\n",
    "**in the forecast_hub dataframe, observations with tye=='point' are used for comparison with our models**\n",
    "\n",
    "First, import covid data downloaded from John Hopkins' repo.\n",
    "\n",
    "Then, calculate weekly new cases for the 4 weeks after the time step. "
   ]
  },
  {
   "cell_type": "code",
   "execution_count": 6,
   "metadata": {},
   "outputs": [],
   "source": [
    "jh_covid_df = pd.read_csv(input_directory + 'time_series_covid19_confirmed_US.csv')\n",
    "\n",
    "# preprocessing JH COVID data\n",
    "jh_covid_df.dropna(axis=0, how='any', inplace=True)\n",
    "\n",
    "jh_covid_df['FIPS'] = jh_covid_df['FIPS'].astype('int64')\n",
    "\n",
    "jh_covid_df.drop(columns=['UID', 'iso2', 'iso3', 'code3','Country_Region', 'Lat', 'Long_'], inplace=True)"
   ]
  },
  {
   "cell_type": "code",
   "execution_count": 8,
   "metadata": {},
   "outputs": [],
   "source": [
    "from datetime import datetime, timedelta\n",
    "\n",
    "#Important: check to see the column index is adherent to the imported df\n",
    "\n",
    "first_date = datetime.strptime(jh_covid_df.columns[4], '%m/%d/%y').date()\n",
    "\n",
    "last_date = datetime.strptime(jh_covid_df.columns[-1], '%m/%d/%y').date()"
   ]
  },
  {
   "cell_type": "code",
   "execution_count": 9,
   "metadata": {},
   "outputs": [],
   "source": [
    "current_date= last_date\n",
    "\n",
    "previous_date = last_date - timedelta (days=1)\n",
    "\n",
    "\n",
    "while current_date > first_date:\n",
    "\n",
    "    #For unix, replace # with - in the time format\n",
    "\n",
    "    current_col = current_date.strftime('%#m/%#d/%y') #replace # with - in Mac or Linux\n",
    "\n",
    "    previous_col = previous_date.strftime('%#m/%#d/%y')\n",
    "\n",
    "    jh_covid_df[previous_col] = np.where(jh_covid_df[previous_col] > jh_covid_df[current_col], jh_covid_df[current_col], jh_covid_df[previous_col])\n",
    "\n",
    "    current_date = current_date - timedelta(days=1)\n",
    "\n",
    "    previous_date = previous_date - timedelta(days=1)"
   ]
  },
  {
   "cell_type": "markdown",
   "metadata": {},
   "source": [
    "### Model Comparison: Forecast Hub Ensemble And STXGB-FB"
   ]
  },
  {
   "cell_type": "code",
   "execution_count": 10,
   "metadata": {},
   "outputs": [],
   "source": [
    "import geopandas as gpd\n",
    "\n",
    "counties_xgb = gpd.read_file(input_directory + 'error_map_XGB_defalt.geojson')\n",
    "counties_xgb_14 = gpd.read_file(input_directory + 'error_map_XGB_14.geojson')\n",
    "counties_xgb_21 = gpd.read_file(input_directory + 'error_map_XGB_21.geojson')\n",
    "counties_xgb_28 = gpd.read_file(input_directory + 'error_map_XGB_28.geojson')"
   ]
  },
  {
   "cell_type": "code",
   "execution_count": 14,
   "metadata": {},
   "outputs": [
    {
     "name": "stderr",
     "output_type": "stream",
     "text": [
      "C:\\Users\\BehzadVahediTorghabe\\anaconda3\\envs\\tf-2\\lib\\site-packages\\ipykernel_launcher.py:41: SettingWithCopyWarning: \n",
      "A value is trying to be set on a copy of a slice from a DataFrame.\n",
      "Try using .loc[row_indexer,col_indexer] = value instead\n",
      "\n",
      "See the caveats in the documentation: https://pandas.pydata.org/pandas-docs/stable/user_guide/indexing.html#returning-a-view-versus-a-copy\n",
      "C:\\Users\\BehzadVahediTorghabe\\anaconda3\\envs\\tf-2\\lib\\site-packages\\ipykernel_launcher.py:41: SettingWithCopyWarning: \n",
      "A value is trying to be set on a copy of a slice from a DataFrame.\n",
      "Try using .loc[row_indexer,col_indexer] = value instead\n",
      "\n",
      "See the caveats in the documentation: https://pandas.pydata.org/pandas-docs/stable/user_guide/indexing.html#returning-a-view-versus-a-copy\n",
      "C:\\Users\\BehzadVahediTorghabe\\anaconda3\\envs\\tf-2\\lib\\site-packages\\ipykernel_launcher.py:41: SettingWithCopyWarning: \n",
      "A value is trying to be set on a copy of a slice from a DataFrame.\n",
      "Try using .loc[row_indexer,col_indexer] = value instead\n",
      "\n",
      "See the caveats in the documentation: https://pandas.pydata.org/pandas-docs/stable/user_guide/indexing.html#returning-a-view-versus-a-copy\n",
      "C:\\Users\\BehzadVahediTorghabe\\anaconda3\\envs\\tf-2\\lib\\site-packages\\ipykernel_launcher.py:41: SettingWithCopyWarning: \n",
      "A value is trying to be set on a copy of a slice from a DataFrame.\n",
      "Try using .loc[row_indexer,col_indexer] = value instead\n",
      "\n",
      "See the caveats in the documentation: https://pandas.pydata.org/pandas-docs/stable/user_guide/indexing.html#returning-a-view-versus-a-copy\n",
      "C:\\Users\\BehzadVahediTorghabe\\anaconda3\\envs\\tf-2\\lib\\site-packages\\ipykernel_launcher.py:41: SettingWithCopyWarning: \n",
      "A value is trying to be set on a copy of a slice from a DataFrame.\n",
      "Try using .loc[row_indexer,col_indexer] = value instead\n",
      "\n",
      "See the caveats in the documentation: https://pandas.pydata.org/pandas-docs/stable/user_guide/indexing.html#returning-a-view-versus-a-copy\n"
     ]
    }
   ],
   "source": [
    "from datetime import datetime, timedelta\n",
    "\n",
    "start_date = datetime(2020, 10, 25)\n",
    "xgb_error_shapefiles = [counties_xgb, counties_xgb_14, counties_xgb_21, counties_xgb_28]\n",
    "\n",
    "\n",
    "# creating two dataframe to store RMSE and MAE values\n",
    "compare_dfs=[]\n",
    "\n",
    "models_compare = ['Ensemble', 'STXGB-FB']\n",
    "iterables = [range(5), models_compare]\n",
    "\n",
    "index_compare = pd.MultiIndex.from_product(iterables, names=[\"time step\", \"model\"])\n",
    "\n",
    "comparison_rmse = pd.DataFrame(index=index_compare, columns=['1 wk ahead', '2 wk ahead', '3 wk ahead', '4 wk ahead'], \n",
    "                               dtype=float)\n",
    "\n",
    "comparison_mae = pd.DataFrame(index=index_compare, columns=['1 wk ahead', '2 wk ahead', '3 wk ahead', '4 wk ahead'], \n",
    "                               dtype=float)\n",
    "\n",
    "for i in range(time_steps):\n",
    "    hub_forecast_date = start_date + timedelta(days=7*i+1)\n",
    "    hub_file_name = hub_forecast_date.strftime('%Y %m %d') + ' COVIDhub ensemble.csv'\n",
    "    hub_df = pd.read_csv(input_directory + hub_file_name)\n",
    "    \n",
    "    # creating target dates\n",
    "    start_period = start_date + timedelta(days=7*i)\n",
    "    end_period = start_period + timedelta(days=6)\n",
    "    target_date = [start_period.strftime('%#m/%#d/%Y')[:-2], end_period.strftime('%#m/%#d/%Y')[:-2]]\n",
    "    for j in range(1,4):\n",
    "        forecast_date = end_period + timedelta(days=7*j)\n",
    "        target_date.append(forecast_date.strftime('%#m/%#d/%Y')[:-2])\n",
    "    \n",
    "    \n",
    "    # Getting observed case numbers from JH COVID data\n",
    "    cols = ['FIPS'] + target_date\n",
    "    compare_df = jh_covid_df[cols]\n",
    "    \n",
    "    labels= ['observed_1wk', 'observed_2wk', 'observed_3wk', 'observed_4wk']\n",
    "    \n",
    "    for j in range(4):\n",
    "        compare_df[labels[j]] = compare_df[target_date[j+1]] - compare_df[target_date[0]]\n",
    "    \n",
    "    \n",
    "    labels_pred_xgb= ['xgb_pred_1wk', 'xgb_pred_2wk', 'xgb_pred_3wk', 'xgb_pred_4wk']\n",
    "    \n",
    "    k=0\n",
    "\n",
    "    for xgb_shp in xgb_error_shapefiles:\n",
    "\n",
    "        df = xgb_shp.copy()\n",
    "        df['FIPS'] = df['GEOID'].astype('int64')\n",
    "        pred_col_name = 'delta_case_pred_facebook_' + str(i) # change facebook to safegraph to generate STXG-SG error values\n",
    "        compare_df = compare_df.merge(df[['FIPS', pred_col_name]], \n",
    "                                      how='right', on='FIPS')\n",
    "        compare_df.rename(columns={pred_col_name:labels_pred_xgb[k]}, inplace=True)\n",
    "\n",
    "        k+=1\n",
    "        \n",
    "    \n",
    "    counties_xgb['FIPS'] = counties_xgb['GEOID'].astype('int64')\n",
    "    compare_df = compare_df.merge(counties_xgb[['FIPS', 'GEOID']], on='FIPS')\n",
    "    \n",
    "    \n",
    "    # joining the predictions from forecast hub\n",
    "    # for each week, values with type point are joined to the dataframe\n",
    "\n",
    "    target_week_hub = ['1 wk ahead inc case', '2 wk ahead inc case', '3 wk ahead inc case', '4 wk ahead inc case']\n",
    "\n",
    "    labels_pred_hub= ['hub_pred_1wk', 'hub_pred_2wk', 'hub_pred_3wk', 'hub_pred_4wk']\n",
    "    \n",
    "    k=0\n",
    "\n",
    "    for week in target_week_hub:\n",
    "        compare_df = compare_df.merge(hub_df[(hub_df['target']== week) & (hub_df['type']=='point')][['location','value']], \n",
    "                       how='left', left_on='GEOID', right_on='location')\n",
    "        compare_df.rename(columns={'value':labels_pred_hub[k]}, inplace=True)\n",
    "        compare_df.drop('location', axis=1, inplace=True)\n",
    "        k+=1\n",
    "        \n",
    "\n",
    "    compare_dfs.append(compare_df)\n",
    "    \n",
    "    target_week = ['_1wk','_2wk','_3wk','_4wk']\n",
    "\n",
    "    \n",
    "    rmse_hub_row = []\n",
    "    mae_hub_row = []\n",
    "    rmse_xgb_row = []\n",
    "    mae_xgb_row = []\n",
    "\n",
    "    for week in target_week:\n",
    "\n",
    "        rmse_hub_row.append(np.sqrt(mean_squared_error(compare_df['observed'+week],compare_df['hub_pred'+week])))\n",
    "        rmse_xgb_row.append(np.sqrt(mean_squared_error(compare_df['observed'+week],compare_df['xgb_pred'+week])))\n",
    "\n",
    "        mae_hub_row.append(mean_absolute_error(compare_df['observed'+week],compare_df['hub_pred'+week]))\n",
    "        mae_xgb_row.append(mean_absolute_error(compare_df['observed'+week],compare_df['xgb_pred'+week]))\n",
    "\n",
    "        \n",
    "    comparison_rmse.loc[i,'Ensemble'] = rmse_hub_row\n",
    "    comparison_rmse.loc[i,'STXGB-FB'] = rmse_xgb_row\n",
    "    \n",
    "    comparison_mae.loc[i,'Ensemble'] = mae_hub_row\n",
    "    comparison_mae.loc[i,'STXGB-FB'] = mae_xgb_row\n",
    "    "
   ]
  },
  {
   "cell_type": "code",
   "execution_count": 15,
   "metadata": {},
   "outputs": [],
   "source": [
    "\n",
    "target_week = ['_1wk','_2wk','_3wk','_4wk']\n",
    "combine_errors=[]\n",
    "\n",
    "\n",
    "\n",
    "for xgb_shp, week in zip((counties_xgb, counties_xgb_14, counties_xgb_21, counties_xgb_28), target_week):\n",
    "    i=0\n",
    "    for df in compare_dfs:\n",
    "\n",
    "    #df_xgb = xgb_shp_2.copy()\n",
    "        cols = [col for col in df.columns if week in col]\n",
    "        cols_to_merge = cols + ['GEOID']\n",
    "        \n",
    "        xgb_shp = xgb_shp.merge(df[cols_to_merge], how='left', on='GEOID')\n",
    "        rename_dict = dict()\n",
    "        for col in cols:\n",
    "            rename_dict[col] = col + '_' + str(i)\n",
    "\n",
    "        xgb_shp['error_delta_case_hub_'+str(i)] =  xgb_shp['hub_pred'+week] - xgb_shp['observed'+week]\n",
    "        xgb_shp['error_delta_case_stxgb_fb_'+str(i)] =  xgb_shp['xgb_pred'+week] - xgb_shp['observed'+week]\n",
    "        \n",
    "        xgb_shp['error_delta_inc_hub_'+str(i)] = xgb_shp['error_delta_case_hub_'+str(i)]/ xgb_shp['POPULATION'] * 10000\n",
    "        xgb_shp['error_delta_inc_stxgb_fb_'+str(i)] = xgb_shp['error_delta_case_stxgb_fb_'+str(i)]/ xgb_shp['POPULATION'] * 10000\n",
    "        \n",
    "        xgb_shp.rename(columns=rename_dict, inplace=True)\n",
    "        i+=1\n",
    "        \n",
    "    combine_errors.append(xgb_shp)\n",
    "        \n",
    "        "
   ]
  },
  {
   "cell_type": "code",
   "execution_count": 25,
   "metadata": {},
   "outputs": [
    {
     "data": {
      "image/png": "[encoded data removed]",
      "text/plain": [
       "<Figure size 1440x576 with 2 Axes>"
      ]
     },
     "metadata": {
      "needs_background": "light"
     },
     "output_type": "display_data"
    }
   ],
   "source": [
    "# Plotting 1,2,3, and 4-week ahead predictions of XGBoost-FB and Ensemble model\n",
    "\n",
    "import matplotlib.dates as md\n",
    "\n",
    "dfs_for_plot=[comparison_rmse, comparison_mae]\n",
    "y_labels=['RMSE', 'MAE']\n",
    "\n",
    "i=0\n",
    "\n",
    "fig, axes = plt.subplots(1,2,figsize=(20, 8))\n",
    "\n",
    "for df_plt, ax in zip(dfs_for_plot, axes):\n",
    "\n",
    "    df = df_plt.reset_index()\n",
    "    df['time step'] = df['time step'].map({0:'2020-10-25',\n",
    "                                        1:'2020-11-01',\n",
    "                                        2:'2020-11-08',\n",
    "                                        3:'2020-11-15',\n",
    "                                        4:'2020-11-22'})\n",
    "    df['time step'] = pd.to_datetime(df['time step'], infer_datetime_format=True)\n",
    "\n",
    "    df_melt = pd.melt(df, id_vars=['time step', 'model'], value_vars=['1 wk ahead', '2 wk ahead', '3 wk ahead', '4 wk ahead'])\n",
    "    df_melt.rename(columns={'variable':'Prediction Horizon'}, inplace=True)\n",
    "\n",
    "    \n",
    "    sns.lineplot(x=\"time step\", y=\"value\", hue='Prediction Horizon', style='model', data=df_melt, ax=ax)\n",
    "    legend_labels, _= ax.get_legend_handles_labels()\n",
    "\n",
    "    ax.set_xlabel('Forecast Date', fontsize=13)\n",
    "    ax.set_ylabel(y_labels[i], fontsize=13)\n",
    "    ax.xaxis.set_major_locator(md.WeekdayLocator(byweekday = 5))\n",
    "    ax.xaxis.set_major_formatter(md.DateFormatter('%Y-%m-%d'))\n",
    "    ax.legend(loc='upper left')\n",
    "    #ax.grid()\n",
    "\n",
    "    i+=1\n"
   ]
  }
 ],
 "metadata": {
  "accelerator": "GPU",
  "colab": {
   "name": "FPC and SPC regression",
   "provenance": [],
   "toc_visible": true
  },
  "kernelspec": {
   "display_name": "Python 3",
   "language": "python",
   "name": "python3"
  },
  "language_info": {
   "codemirror_mode": {
    "name": "ipython",
    "version": 3
   },
   "file_extension": ".py",
   "mimetype": "text/x-python",
   "name": "python",
   "nbconvert_exporter": "python",
   "pygments_lexer": "ipython3",
   "version": "3.7.9"
  }
 },
 "nbformat": 4,
 "nbformat_minor": 1
}
